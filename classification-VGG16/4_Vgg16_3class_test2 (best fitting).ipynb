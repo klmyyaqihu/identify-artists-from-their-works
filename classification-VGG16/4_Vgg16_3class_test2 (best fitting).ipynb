{
 "cells": [
  {
   "cell_type": "markdown",
   "metadata": {},
   "source": [
    "# Run VGG16 on 3 classes test2\n",
    "\n",
    "For this part, we still loads 3 classes with most paintings in VGG16 while adds two more layers than test1. Still, run 20 epochs.\n",
    "\n",
    "Before adding layers, we let the `base_model.output` load into variable `x`. Then, we just operate on the `x`. The operations are as following:\n",
    "* A `Flatten()(x)` layer which reshapes the outputs to a single channel.\n",
    "* (new) A `GaussianNoise(0.1)(x)` layer.\n",
    "* (new) A `Dropout(0.5)(x)` layer.\n",
    "* A fully-connected layer with 2304 output units and `relu` activation.\n",
    "* A `GaussianNoise(0.1)(x)` layer.\n",
    "* A `Dropout(0.5)(x)` layer.\n",
    "* A fully-connected layer with 288 output units and `relu` activation.\n",
    "* A `BatchNormalization()(x)` layer.\n",
    "* A `Dropout(0.5)(x)` layer.\n",
    "* A final fully-connected layer.  Since this is a multiple classification, there should be three output and `softmax` activation. To mitigate overfitting, we add several arguments: `kernel_initializer='random_uniform'`, `bias_initializer='random_uniform'`, and `bias_regularizer=regularizers.l2(0.01)`.\n",
    "\n",
    "Fortunately, at the end of this test2, we got nicer loss curves which reflects no obvious overfitting."
   ]
  },
  {
   "cell_type": "code",
   "execution_count": 1,
   "metadata": {},
   "outputs": [],
   "source": [
    "import numpy as np\n",
    "import os\n",
    "from tensorflow.keras import applications\n",
    "from tensorflow.keras.preprocessing.image import ImageDataGenerator\n",
    "from tensorflow.keras import optimizers, regularizers\n",
    "from tensorflow.keras.models import Sequential\n",
    "from tensorflow.keras.models import Model\n",
    "from tensorflow.keras.layers import Dropout, Flatten, Dense, GaussianNoise, BatchNormalization\n",
    "import matplotlib\n",
    "import matplotlib.pyplot as plt\n",
    "%matplotlib inline"
   ]
  },
  {
   "cell_type": "code",
   "execution_count": 2,
   "metadata": {},
   "outputs": [
    {
     "name": "stdout",
     "output_type": "stream",
     "text": [
      "[name: \"/device:CPU:0\"\n",
      "device_type: \"CPU\"\n",
      "memory_limit: 268435456\n",
      "locality {\n",
      "}\n",
      "incarnation: 16256100486386227842\n",
      ", name: \"/device:GPU:0\"\n",
      "device_type: \"GPU\"\n",
      "memory_limit: 2264907776\n",
      "locality {\n",
      "  bus_id: 1\n",
      "  links {\n",
      "  }\n",
      "}\n",
      "incarnation: 2620730678667875277\n",
      "physical_device_desc: \"device: 0, name: GeForce GTX 970M, pci bus id: 0000:01:00.0, compute capability: 5.2\"\n",
      "]\n"
     ]
    }
   ],
   "source": [
    "from tensorflow.python.client import device_lib\n",
    "print(device_lib.list_local_devices())"
   ]
  },
  {
   "cell_type": "code",
   "execution_count": 3,
   "metadata": {},
   "outputs": [],
   "source": [
    "import tensorflow.keras.backend as K\n",
    "K.clear_session()"
   ]
  },
  {
   "cell_type": "code",
   "execution_count": 3,
   "metadata": {},
   "outputs": [
    {
     "name": "stdout",
     "output_type": "stream",
     "text": [
      "WARNING:tensorflow:From D:\\Anaconda\\envs\\tensorflow\\lib\\site-packages\\tensorflow\\python\\ops\\resource_variable_ops.py:435: colocate_with (from tensorflow.python.framework.ops) is deprecated and will be removed in a future version.\n",
      "Instructions for updating:\n",
      "Colocations handled automatically by placer.\n",
      "WARNING:tensorflow:From D:\\Anaconda\\envs\\tensorflow\\lib\\site-packages\\tensorflow\\python\\keras\\layers\\core.py:143: calling dropout (from tensorflow.python.ops.nn_ops) with keep_prob is deprecated and will be removed in a future version.\n",
      "Instructions for updating:\n",
      "Please use `rate` instead of `keep_prob`. Rate should be set to `rate = 1 - keep_prob`.\n"
     ]
    }
   ],
   "source": [
    "nrow = 200\n",
    "ncol = 200\n",
    "nclass = 3\n",
    "base_model = applications.VGG16(weights='imagenet', input_shape=(nrow,ncol,3), include_top=False)\n",
    "for layer in base_model.layers:\n",
    "    layer.trainable = False\n",
    "\n",
    "x = base_model.output\n",
    "x = Flatten()(x)\n",
    "x = GaussianNoise(0.1)(x)\n",
    "x = Dropout(0.5)(x)\n",
    "x = Dense(2304, activation = 'relu')(x) # 18432/4\n",
    "x = GaussianNoise(0.1)(x) # add noise to mitigate overfitting (regularization layer)\n",
    "x = Dropout(0.5)(x)\n",
    "x = Dense(288, activation='relu')(x)\n",
    "x = BatchNormalization()(x)\n",
    "x = Dropout(0.5)(x)\n",
    "pred = Dense(nclass, activation='softmax', \n",
    "             kernel_initializer='random_uniform', \n",
    "             bias_initializer='random_uniform', \n",
    "             bias_regularizer=regularizers.l2(0.01), \n",
    "             name='predictions')(x) \n",
    "model = Model(inputs=base_model.input, outputs=pred)\n",
    "    "
   ]
  },
  {
   "cell_type": "code",
   "execution_count": 4,
   "metadata": {},
   "outputs": [
    {
     "name": "stdout",
     "output_type": "stream",
     "text": [
      "_________________________________________________________________\n",
      "Layer (type)                 Output Shape              Param #   \n",
      "=================================================================\n",
      "input_1 (InputLayer)         (None, 200, 200, 3)       0         \n",
      "_________________________________________________________________\n",
      "block1_conv1 (Conv2D)        (None, 200, 200, 64)      1792      \n",
      "_________________________________________________________________\n",
      "block1_conv2 (Conv2D)        (None, 200, 200, 64)      36928     \n",
      "_________________________________________________________________\n",
      "block1_pool (MaxPooling2D)   (None, 100, 100, 64)      0         \n",
      "_________________________________________________________________\n",
      "block2_conv1 (Conv2D)        (None, 100, 100, 128)     73856     \n",
      "_________________________________________________________________\n",
      "block2_conv2 (Conv2D)        (None, 100, 100, 128)     147584    \n",
      "_________________________________________________________________\n",
      "block2_pool (MaxPooling2D)   (None, 50, 50, 128)       0         \n",
      "_________________________________________________________________\n",
      "block3_conv1 (Conv2D)        (None, 50, 50, 256)       295168    \n",
      "_________________________________________________________________\n",
      "block3_conv2 (Conv2D)        (None, 50, 50, 256)       590080    \n",
      "_________________________________________________________________\n",
      "block3_conv3 (Conv2D)        (None, 50, 50, 256)       590080    \n",
      "_________________________________________________________________\n",
      "block3_pool (MaxPooling2D)   (None, 25, 25, 256)       0         \n",
      "_________________________________________________________________\n",
      "block4_conv1 (Conv2D)        (None, 25, 25, 512)       1180160   \n",
      "_________________________________________________________________\n",
      "block4_conv2 (Conv2D)        (None, 25, 25, 512)       2359808   \n",
      "_________________________________________________________________\n",
      "block4_conv3 (Conv2D)        (None, 25, 25, 512)       2359808   \n",
      "_________________________________________________________________\n",
      "block4_pool (MaxPooling2D)   (None, 12, 12, 512)       0         \n",
      "_________________________________________________________________\n",
      "block5_conv1 (Conv2D)        (None, 12, 12, 512)       2359808   \n",
      "_________________________________________________________________\n",
      "block5_conv2 (Conv2D)        (None, 12, 12, 512)       2359808   \n",
      "_________________________________________________________________\n",
      "block5_conv3 (Conv2D)        (None, 12, 12, 512)       2359808   \n",
      "_________________________________________________________________\n",
      "block5_pool (MaxPooling2D)   (None, 6, 6, 512)         0         \n",
      "_________________________________________________________________\n",
      "flatten (Flatten)            (None, 18432)             0         \n",
      "_________________________________________________________________\n",
      "gaussian_noise (GaussianNois (None, 18432)             0         \n",
      "_________________________________________________________________\n",
      "dropout (Dropout)            (None, 18432)             0         \n",
      "_________________________________________________________________\n",
      "dense (Dense)                (None, 2304)              42469632  \n",
      "_________________________________________________________________\n",
      "gaussian_noise_1 (GaussianNo (None, 2304)              0         \n",
      "_________________________________________________________________\n",
      "dropout_1 (Dropout)          (None, 2304)              0         \n",
      "_________________________________________________________________\n",
      "dense_1 (Dense)              (None, 288)               663840    \n",
      "_________________________________________________________________\n",
      "batch_normalization_v1 (Batc (None, 288)               1152      \n",
      "_________________________________________________________________\n",
      "dropout_2 (Dropout)          (None, 288)               0         \n",
      "_________________________________________________________________\n",
      "predictions (Dense)          (None, 3)                 867       \n",
      "=================================================================\n",
      "Total params: 57,850,179\n",
      "Trainable params: 43,134,915\n",
      "Non-trainable params: 14,715,264\n",
      "_________________________________________________________________\n"
     ]
    }
   ],
   "source": [
    "model.summary()"
   ]
  },
  {
   "cell_type": "code",
   "execution_count": 5,
   "metadata": {},
   "outputs": [
    {
     "name": "stdout",
     "output_type": "stream",
     "text": [
      "Found 1616 images belonging to 3 classes.\n"
     ]
    }
   ],
   "source": [
    "train_data_dir = './images_train'\n",
    "batch_size = 10\n",
    "train_datagen = ImageDataGenerator(rescale=1./255,\n",
    "                                   shear_range=0.2,\n",
    "                                   zoom_range=0.2,\n",
    "                                   horizontal_flip=True)\n",
    "train_generator = train_datagen.flow_from_directory(\n",
    "                        train_data_dir,\n",
    "                        target_size=(nrow,ncol),\n",
    "                        batch_size=batch_size,\n",
    "                        class_mode='categorical')"
   ]
  },
  {
   "cell_type": "code",
   "execution_count": 6,
   "metadata": {},
   "outputs": [
    {
     "name": "stdout",
     "output_type": "stream",
     "text": [
      "Found 402 images belonging to 3 classes.\n"
     ]
    }
   ],
   "source": [
    "test_data_dir = './images_test'\n",
    "batch_size = 10\n",
    "test_datagen = ImageDataGenerator(rescale=1./255,\n",
    "                                   shear_range=0.2,\n",
    "                                   zoom_range=0.2,\n",
    "                                   horizontal_flip=True)\n",
    "test_generator = train_datagen.flow_from_directory(\n",
    "                        test_data_dir,\n",
    "                        target_size=(nrow,ncol),\n",
    "                        batch_size=batch_size,\n",
    "                        class_mode='categorical')"
   ]
  },
  {
   "cell_type": "code",
   "execution_count": 7,
   "metadata": {},
   "outputs": [],
   "source": [
    "model.compile(loss='categorical_crossentropy', optimizer='adam', metrics=['accuracy'])\n",
    "steps_per_epoch = train_generator.n // batch_size\n",
    "validation_steps = test_generator.n // batch_size"
   ]
  },
  {
   "cell_type": "code",
   "execution_count": 8,
   "metadata": {},
   "outputs": [
    {
     "name": "stdout",
     "output_type": "stream",
     "text": [
      "WARNING:tensorflow:From D:\\Anaconda\\envs\\tensorflow\\lib\\site-packages\\tensorflow\\python\\ops\\math_ops.py:3066: to_int32 (from tensorflow.python.ops.math_ops) is deprecated and will be removed in a future version.\n",
      "Instructions for updating:\n",
      "Use tf.cast instead.\n",
      "Epoch 1/20\n",
      "41/41 [==============================] - 11s 269ms/step - loss: 0.8014 - acc: 0.6468\n",
      "162/162 [==============================] - 51s 314ms/step - loss: 0.9062 - acc: 0.5817 - val_loss: 0.8014 - val_acc: 0.6468\n",
      "Epoch 2/20\n",
      "41/41 [==============================] - 10s 234ms/step - loss: 0.5261 - acc: 0.7910\n",
      "162/162 [==============================] - 48s 299ms/step - loss: 0.7397 - acc: 0.6887 - val_loss: 0.5261 - val_acc: 0.7910\n",
      "Epoch 3/20\n",
      "41/41 [==============================] - 11s 272ms/step - loss: 0.4968 - acc: 0.7935\n",
      "162/162 [==============================] - 48s 294ms/step - loss: 0.6464 - acc: 0.7314 - val_loss: 0.4968 - val_acc: 0.7935\n",
      "Epoch 4/20\n",
      "41/41 [==============================] - 9s 230ms/step - loss: 0.5469 - acc: 0.7786\n",
      "162/162 [==============================] - 48s 298ms/step - loss: 0.6067 - acc: 0.7624 - val_loss: 0.5469 - val_acc: 0.7786\n",
      "Epoch 5/20\n",
      "41/41 [==============================] - 10s 242ms/step - loss: 0.6292 - acc: 0.7363\n",
      "162/162 [==============================] - 47s 290ms/step - loss: 0.5992 - acc: 0.7580 - val_loss: 0.6292 - val_acc: 0.7363\n",
      "Epoch 6/20\n",
      "41/41 [==============================] - 9s 224ms/step - loss: 0.4780 - acc: 0.8159\n",
      "162/162 [==============================] - 46s 286ms/step - loss: 0.5729 - acc: 0.7840 - val_loss: 0.4780 - val_acc: 0.8159\n",
      "Epoch 7/20\n",
      "41/41 [==============================] - 9s 220ms/step - loss: 0.4713 - acc: 0.8209\n",
      "162/162 [==============================] - 46s 287ms/step - loss: 0.5742 - acc: 0.7809 - val_loss: 0.4713 - val_acc: 0.8209\n",
      "Epoch 8/20\n",
      "41/41 [==============================] - 10s 254ms/step - loss: 0.5374 - acc: 0.7861\n",
      "162/162 [==============================] - 48s 297ms/step - loss: 0.5082 - acc: 0.8051 - val_loss: 0.5374 - val_acc: 0.7861\n",
      "Epoch 9/20\n",
      "41/41 [==============================] - 9s 222ms/step - loss: 0.5552 - acc: 0.7687\n",
      "162/162 [==============================] - 46s 286ms/step - loss: 0.5573 - acc: 0.7772 - val_loss: 0.5552 - val_acc: 0.7687\n",
      "Epoch 10/20\n",
      "41/41 [==============================] - 10s 252ms/step - loss: 0.4952 - acc: 0.8085\n",
      "162/162 [==============================] - 48s 294ms/step - loss: 0.5131 - acc: 0.7964 - val_loss: 0.4952 - val_acc: 0.8085\n",
      "Epoch 11/20\n",
      "41/41 [==============================] - 9s 222ms/step - loss: 0.4551 - acc: 0.8184\n",
      "162/162 [==============================] - 46s 287ms/step - loss: 0.4911 - acc: 0.8069 - val_loss: 0.4551 - val_acc: 0.8184\n",
      "Epoch 12/20\n",
      "41/41 [==============================] - 10s 246ms/step - loss: 0.7736 - acc: 0.7090\n",
      "162/162 [==============================] - 48s 298ms/step - loss: 0.4689 - acc: 0.8175 - val_loss: 0.7736 - val_acc: 0.7090\n",
      "Epoch 13/20\n",
      "41/41 [==============================] - 9s 223ms/step - loss: 0.4404 - acc: 0.8234\n",
      "162/162 [==============================] - 46s 282ms/step - loss: 0.4993 - acc: 0.8032 - val_loss: 0.4404 - val_acc: 0.8234\n",
      "Epoch 14/20\n",
      "41/41 [==============================] - 11s 269ms/step - loss: 0.4481 - acc: 0.8308\n",
      "162/162 [==============================] - 48s 299ms/step - loss: 0.4822 - acc: 0.8156 - val_loss: 0.4481 - val_acc: 0.8308\n",
      "Epoch 15/20\n",
      "41/41 [==============================] - 9s 220ms/step - loss: 0.5458 - acc: 0.8035\n",
      "162/162 [==============================] - 46s 284ms/step - loss: 0.4653 - acc: 0.8162 - val_loss: 0.5458 - val_acc: 0.8035\n",
      "Epoch 16/20\n",
      "41/41 [==============================] - 9s 232ms/step - loss: 0.5927 - acc: 0.7811\n",
      "162/162 [==============================] - 47s 290ms/step - loss: 0.4841 - acc: 0.8119 - val_loss: 0.5927 - val_acc: 0.7811\n",
      "Epoch 17/20\n",
      "41/41 [==============================] - 10s 254ms/step - loss: 0.4682 - acc: 0.8060\n",
      "162/162 [==============================] - 47s 293ms/step - loss: 0.4577 - acc: 0.8249 - val_loss: 0.4682 - val_acc: 0.8060\n",
      "Epoch 18/20\n",
      "41/41 [==============================] - 10s 241ms/step - loss: 0.4739 - acc: 0.8060\n",
      "162/162 [==============================] - 47s 293ms/step - loss: 0.4303 - acc: 0.8311 - val_loss: 0.4739 - val_acc: 0.8060\n",
      "Epoch 19/20\n",
      "41/41 [==============================] - 10s 237ms/step - loss: 0.4896 - acc: 0.8184\n",
      "162/162 [==============================] - 49s 302ms/step - loss: 0.4780 - acc: 0.8162 - val_loss: 0.4896 - val_acc: 0.8184\n",
      "Epoch 20/20\n",
      "41/41 [==============================] - 11s 261ms/step - loss: 0.4374 - acc: 0.8134\n",
      "162/162 [==============================] - 51s 315ms/step - loss: 0.4418 - acc: 0.8348 - val_loss: 0.4374 - val_acc: 0.8134\n"
     ]
    }
   ],
   "source": [
    "nepochs = 20  # Number of epochs\n",
    "\n",
    "# Call the fit_generator function\n",
    "hist = model.fit_generator(\n",
    "    train_generator,\n",
    "    epochs=nepochs,\n",
    "    steps_per_epoch=steps_per_epoch,\n",
    "    validation_data=test_generator,\n",
    "    validation_steps=validation_steps)"
   ]
  },
  {
   "cell_type": "code",
   "execution_count": 9,
   "metadata": {},
   "outputs": [
    {
     "data": {
      "text/plain": [
       "<matplotlib.legend.Legend at 0x1b6acc61898>"
      ]
     },
     "execution_count": 9,
     "metadata": {},
     "output_type": "execute_result"
    },
    {
     "data": {
      "image/png": "[encoded data removed]",
      "text/plain": [
       "<Figure size 432x288 with 1 Axes>"
      ]
     },
     "metadata": {
      "needs_background": "light"
     },
     "output_type": "display_data"
    }
   ],
   "source": [
    "hist_his = hist.history\n",
    "acc = hist_his['acc']\n",
    "val_acc = hist_his['val_acc']\n",
    "plt.plot(acc)\n",
    "plt.plot(val_acc)\n",
    "plt.grid()\n",
    "plt.xlabel('Epoch')\n",
    "plt.ylabel('Accuracy')\n",
    "plt.legend(['acc','val_acc'], loc = 4)"
   ]
  },
  {
   "cell_type": "code",
   "execution_count": 10,
   "metadata": {},
   "outputs": [
    {
     "data": {
      "text/plain": [
       "<matplotlib.legend.Legend at 0x1b6c6575f98>"
      ]
     },
     "execution_count": 10,
     "metadata": {},
     "output_type": "execute_result"
    },
    {
     "data": {
      "image/png": "[encoded data removed]",
      "text/plain": [
       "<Figure size 432x288 with 1 Axes>"
      ]
     },
     "metadata": {
      "needs_background": "light"
     },
     "output_type": "display_data"
    }
   ],
   "source": [
    "loss = hist_his['loss']\n",
    "val_loss = hist_his['val_loss']\n",
    "plt.plot(loss)\n",
    "plt.plot(val_loss)\n",
    "plt.grid()\n",
    "plt.xlabel('Epoch')\n",
    "plt.ylabel('Loss')\n",
    "plt.legend(['loss','val_loss'], loc = 1)"
   ]
  },
  {
   "cell_type": "code",
   "execution_count": 11,
   "metadata": {},
   "outputs": [
    {
     "name": "stdout",
     "output_type": "stream",
     "text": [
      "[0.9074013190030461, 0.7389471186970425, 0.6464045981295629, 0.6060428023246107, 0.5999550910131766, 0.5728324980539555, 0.5746590845047099, 0.5088578708617404, 0.558343212138677, 0.5137309753658748, 0.4898616761743727, 0.4695385329628197, 0.4970195085861453, 0.48181152163018093, 0.46463041681575007, 0.483507089943874, 0.4586440159911566, 0.43021603463457364, 0.4766368215331937, 0.4413660408670802]\n",
      "[0.8013866336607351, 0.5260722466358324, 0.49675964255158495, 0.5469052998757944, 0.6292213034339067, 0.47799311978061026, 0.471272920599071, 0.5374162589631429, 0.5552048854893301, 0.49515536618305417, 0.45510127018319396, 0.7736208001833137, 0.44041226286350227, 0.4480742525036742, 0.5457953320043843, 0.5926764856387929, 0.468191360918487, 0.4738691456434203, 0.48956028026778525, 0.43735222977290794]\n",
      "[0.58168316, 0.68873763, 0.73143566, 0.76237625, 0.75804454, 0.78403467, 0.7809406, 0.8050743, 0.7772277, 0.7964109, 0.8069307, 0.8174505, 0.8032178, 0.8155941, 0.8162129, 0.8118812, 0.82487625, 0.83106434, 0.8162129, 0.83477724]\n",
      "[0.6467662, 0.7910448, 0.7935323, 0.77860695, 0.7363184, 0.8159204, 0.8208955, 0.78606963, 0.76865673, 0.80845773, 0.81840795, 0.7089552, 0.8233831, 0.8308458, 0.8034826, 0.78109455, 0.80597013, 0.80597013, 0.81840795, 0.8134328]\n"
     ]
    }
   ],
   "source": [
    "print(loss)\n",
    "print(val_loss)\n",
    "print(acc)\n",
    "print(val_acc)"
   ]
  },
  {
   "cell_type": "code",
   "execution_count": null,
   "metadata": {},
   "outputs": [],
   "source": []
  }
 ],
 "metadata": {
  "kernelspec": {
   "display_name": "Python 3",
   "language": "python",
   "name": "python3"
  },
  "language_info": {
   "codemirror_mode": {
    "name": "ipython",
    "version": 3
   },
   "file_extension": ".py",
   "mimetype": "text/x-python",
   "name": "python",
   "nbconvert_exporter": "python",
   "pygments_lexer": "ipython3",
   "version": "3.6.5"
  }
 },
 "nbformat": 4,
 "nbformat_minor": 2
}
