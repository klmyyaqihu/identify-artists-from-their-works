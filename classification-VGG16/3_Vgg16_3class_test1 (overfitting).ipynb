{
 "cells": [
  {
   "cell_type": "markdown",
   "metadata": {},
   "source": [
    "# Run VGG16 on 3 classes test1\n",
    "\n",
    "For this part, we loads 3 classes with most paintings in VGG16 and adds several layers to test the performance. Still, run 20 epochs.\n",
    "\n",
    "Before adding layers, we let the `base_model.output` load into variable `x`. Then, we just operate on the `x`. The operations are as following:\n",
    "* A `Flatten()(x)` layer which reshapes the outputs to a single channel.\n",
    "* A fully-connected layer with 2304 output units and `relu` activation.\n",
    "* A `GaussianNoise(0.1)(x)` layer.\n",
    "* A `Dropout(0.5)(x)` layer.\n",
    "* A fully-connected layer with 288 output units and `relu` activation.\n",
    "* A `BatchNormalization()(x)` layer.\n",
    "* A `Dropout(0.5)(x)` layer.\n",
    "* A final fully-connected layer.  Since this is a multiple classification, there should be three output and `softmax` activation. To mitigate overfitting, we add several arguments: `kernel_initializer='random_uniform'`, `bias_initializer='random_uniform'`, and `bias_regularizer=regularizers.l2(0.01)`.\n",
    "\n",
    "However, at the end of this test1, we can still clearly see overfitting."
   ]
  },
  {
   "cell_type": "code",
   "execution_count": 1,
   "metadata": {},
   "outputs": [],
   "source": [
    "import numpy as np\n",
    "import os\n",
    "from tensorflow.keras import applications\n",
    "from tensorflow.keras.preprocessing.image import ImageDataGenerator\n",
    "from tensorflow.keras import optimizers, regularizers\n",
    "from tensorflow.keras.models import Sequential\n",
    "from tensorflow.keras.models import Model\n",
    "from tensorflow.keras.layers import Dropout, Flatten, Dense, GaussianNoise, BatchNormalization\n",
    "import matplotlib\n",
    "import matplotlib.pyplot as plt\n",
    "%matplotlib inline"
   ]
  },
  {
   "cell_type": "code",
   "execution_count": 2,
   "metadata": {},
   "outputs": [
    {
     "name": "stdout",
     "output_type": "stream",
     "text": [
      "[name: \"/device:CPU:0\"\n",
      "device_type: \"CPU\"\n",
      "memory_limit: 268435456\n",
      "locality {\n",
      "}\n",
      "incarnation: 13973592982641359775\n",
      ", name: \"/device:XLA_GPU:0\"\n",
      "device_type: \"XLA_GPU\"\n",
      "memory_limit: 17179869184\n",
      "locality {\n",
      "}\n",
      "incarnation: 15866717560866743607\n",
      "physical_device_desc: \"device: XLA_GPU device\"\n",
      ", name: \"/device:XLA_CPU:0\"\n",
      "device_type: \"XLA_CPU\"\n",
      "memory_limit: 17179869184\n",
      "locality {\n",
      "}\n",
      "incarnation: 17454529404844390179\n",
      "physical_device_desc: \"device: XLA_CPU device\"\n",
      ", name: \"/device:GPU:0\"\n",
      "device_type: \"GPU\"\n",
      "memory_limit: 15856546612\n",
      "locality {\n",
      "  bus_id: 1\n",
      "  links {\n",
      "  }\n",
      "}\n",
      "incarnation: 11389401770462418927\n",
      "physical_device_desc: \"device: 0, name: Tesla P100-PCIE-16GB, pci bus id: 0000:00:04.0, compute capability: 6.0\"\n",
      "]\n"
     ]
    }
   ],
   "source": [
    "from tensorflow.python.client import device_lib\n",
    "print(device_lib.list_local_devices())"
   ]
  },
  {
   "cell_type": "code",
   "execution_count": 3,
   "metadata": {},
   "outputs": [],
   "source": [
    "import tensorflow.keras.backend as K\n",
    "K.clear_session()"
   ]
  },
  {
   "cell_type": "markdown",
   "metadata": {},
   "source": [
    "Before adding layers, we let the `base_model.output` load into variable `x`. Then, we just operate on the `x`. The operations are as following:\n",
    "* A `Flatten()(x)` layer which reshapes the outputs to a single channel.\n",
    "* A fully-connected layer with 2304 output units and `relu` activation.\n",
    "* A `GaussianNoise(0.1)(x)` layer.\n",
    "* A `Dropout(0.5)(x)` layer.\n",
    "* A fully-connected layer with 288 output units and `relu` activation.\n",
    "* A `BatchNormalization()(x)` layer.\n",
    "* A `Dropout(0.5)(x)` layer.\n",
    "* A final fully-connected layer.  Since this is a multiple classification, there should be three output and `softmax` activation. To mitigate overfitting, we add several arguments: `kernel_initializer='random_uniform'`, `bias_initializer='random_uniform'`, and `bias_regularizer=regularizers.l2(0.01)`."
   ]
  },
  {
   "cell_type": "code",
   "execution_count": 1,
   "metadata": {},
   "outputs": [
    {
     "ename": "NameError",
     "evalue": "name 'applications' is not defined",
     "output_type": "error",
     "traceback": [
      "\u001b[0;31m---------------------------------------------------------------------------\u001b[0m",
      "\u001b[0;31mNameError\u001b[0m                                 Traceback (most recent call last)",
      "\u001b[0;32m<ipython-input-1-ff2faead8ef7>\u001b[0m in \u001b[0;36m<module>\u001b[0;34m()\u001b[0m\n\u001b[1;32m      2\u001b[0m \u001b[0mncol\u001b[0m \u001b[0;34m=\u001b[0m \u001b[0;36m200\u001b[0m\u001b[0;34m\u001b[0m\u001b[0m\n\u001b[1;32m      3\u001b[0m \u001b[0mnclass\u001b[0m \u001b[0;34m=\u001b[0m \u001b[0;36m3\u001b[0m\u001b[0;34m\u001b[0m\u001b[0m\n\u001b[0;32m----> 4\u001b[0;31m \u001b[0mbase_model\u001b[0m \u001b[0;34m=\u001b[0m \u001b[0mapplications\u001b[0m\u001b[0;34m.\u001b[0m\u001b[0mVGG16\u001b[0m\u001b[0;34m(\u001b[0m\u001b[0mweights\u001b[0m\u001b[0;34m=\u001b[0m\u001b[0;34m'imagenet'\u001b[0m\u001b[0;34m,\u001b[0m \u001b[0minput_shape\u001b[0m\u001b[0;34m=\u001b[0m\u001b[0;34m(\u001b[0m\u001b[0mnrow\u001b[0m\u001b[0;34m,\u001b[0m\u001b[0mncol\u001b[0m\u001b[0;34m,\u001b[0m\u001b[0;36m3\u001b[0m\u001b[0;34m)\u001b[0m\u001b[0;34m,\u001b[0m \u001b[0minclude_top\u001b[0m\u001b[0;34m=\u001b[0m\u001b[0;32mFalse\u001b[0m\u001b[0;34m)\u001b[0m\u001b[0;34m\u001b[0m\u001b[0m\n\u001b[0m\u001b[1;32m      5\u001b[0m \u001b[0;32mfor\u001b[0m \u001b[0mlayer\u001b[0m \u001b[0;32min\u001b[0m \u001b[0mbase_model\u001b[0m\u001b[0;34m.\u001b[0m\u001b[0mlayers\u001b[0m\u001b[0;34m:\u001b[0m\u001b[0;34m\u001b[0m\u001b[0m\n\u001b[1;32m      6\u001b[0m     \u001b[0mlayer\u001b[0m\u001b[0;34m.\u001b[0m\u001b[0mtrainable\u001b[0m \u001b[0;34m=\u001b[0m \u001b[0;32mFalse\u001b[0m\u001b[0;34m\u001b[0m\u001b[0m\n",
      "\u001b[0;31mNameError\u001b[0m: name 'applications' is not defined"
     ]
    }
   ],
   "source": [
    "nrow = 200\n",
    "ncol = 200\n",
    "nclass = 3\n",
    "base_model = applications.VGG16(weights='imagenet', input_shape=(nrow,ncol,3), include_top=False)\n",
    "for layer in base_model.layers:\n",
    "    layer.trainable = False\n",
    "\n",
    "x = base_model.output\n",
    "x = Flatten()(x)\n",
    "x = Dense(2304, activation = 'relu')(x) # 18432/4\n",
    "x = GaussianNoise(0.1)(x) # add noise to mitigate overfitting (regularization layer)\n",
    "x = Dropout(0.5)(x)\n",
    "x = Dense(288, activation='relu')(x)\n",
    "x = BatchNormalization()(x)\n",
    "x = Dropout(0.5)(x)\n",
    "pred = Dense(nclass, activation='softmax', \n",
    "             kernel_initializer='random_uniform', \n",
    "             bias_initializer='random_uniform', \n",
    "             bias_regularizer=regularizers.l2(0.01), \n",
    "             name='predictions')(x) \n",
    "model = Model(inputs=base_model.input, outputs=pred)\n",
    "    "
   ]
  },
  {
   "cell_type": "code",
   "execution_count": 5,
   "metadata": {},
   "outputs": [
    {
     "name": "stdout",
     "output_type": "stream",
     "text": [
      "_________________________________________________________________\n",
      "Layer (type)                 Output Shape              Param #   \n",
      "=================================================================\n",
      "input_1 (InputLayer)         (None, 200, 200, 3)       0         \n",
      "_________________________________________________________________\n",
      "block1_conv1 (Conv2D)        (None, 200, 200, 64)      1792      \n",
      "_________________________________________________________________\n",
      "block1_conv2 (Conv2D)        (None, 200, 200, 64)      36928     \n",
      "_________________________________________________________________\n",
      "block1_pool (MaxPooling2D)   (None, 100, 100, 64)      0         \n",
      "_________________________________________________________________\n",
      "block2_conv1 (Conv2D)        (None, 100, 100, 128)     73856     \n",
      "_________________________________________________________________\n",
      "block2_conv2 (Conv2D)        (None, 100, 100, 128)     147584    \n",
      "_________________________________________________________________\n",
      "block2_pool (MaxPooling2D)   (None, 50, 50, 128)       0         \n",
      "_________________________________________________________________\n",
      "block3_conv1 (Conv2D)        (None, 50, 50, 256)       295168    \n",
      "_________________________________________________________________\n",
      "block3_conv2 (Conv2D)        (None, 50, 50, 256)       590080    \n",
      "_________________________________________________________________\n",
      "block3_conv3 (Conv2D)        (None, 50, 50, 256)       590080    \n",
      "_________________________________________________________________\n",
      "block3_pool (MaxPooling2D)   (None, 25, 25, 256)       0         \n",
      "_________________________________________________________________\n",
      "block4_conv1 (Conv2D)        (None, 25, 25, 512)       1180160   \n",
      "_________________________________________________________________\n",
      "block4_conv2 (Conv2D)        (None, 25, 25, 512)       2359808   \n",
      "_________________________________________________________________\n",
      "block4_conv3 (Conv2D)        (None, 25, 25, 512)       2359808   \n",
      "_________________________________________________________________\n",
      "block4_pool (MaxPooling2D)   (None, 12, 12, 512)       0         \n",
      "_________________________________________________________________\n",
      "block5_conv1 (Conv2D)        (None, 12, 12, 512)       2359808   \n",
      "_________________________________________________________________\n",
      "block5_conv2 (Conv2D)        (None, 12, 12, 512)       2359808   \n",
      "_________________________________________________________________\n",
      "block5_conv3 (Conv2D)        (None, 12, 12, 512)       2359808   \n",
      "_________________________________________________________________\n",
      "block5_pool (MaxPooling2D)   (None, 6, 6, 512)         0         \n",
      "_________________________________________________________________\n",
      "flatten (Flatten)            (None, 18432)             0         \n",
      "_________________________________________________________________\n",
      "dense (Dense)                (None, 2304)              42469632  \n",
      "_________________________________________________________________\n",
      "gaussian_noise (GaussianNois (None, 2304)              0         \n",
      "_________________________________________________________________\n",
      "dropout (Dropout)            (None, 2304)              0         \n",
      "_________________________________________________________________\n",
      "dense_1 (Dense)              (None, 288)               663840    \n",
      "_________________________________________________________________\n",
      "batch_normalization_v1 (Batc (None, 288)               1152      \n",
      "_________________________________________________________________\n",
      "dropout_1 (Dropout)          (None, 288)               0         \n",
      "_________________________________________________________________\n",
      "predictions (Dense)          (None, 3)                 867       \n",
      "=================================================================\n",
      "Total params: 57,850,179\n",
      "Trainable params: 43,134,915\n",
      "Non-trainable params: 14,715,264\n",
      "_________________________________________________________________\n"
     ]
    }
   ],
   "source": [
    "model.summary()"
   ]
  },
  {
   "cell_type": "code",
   "execution_count": 6,
   "metadata": {},
   "outputs": [
    {
     "name": "stdout",
     "output_type": "stream",
     "text": [
      "Found 1616 images belonging to 3 classes.\n"
     ]
    }
   ],
   "source": [
    "train_data_dir = './images_train'\n",
    "batch_size = 32\n",
    "train_datagen = ImageDataGenerator(rescale=1./255,\n",
    "                                   shear_range=0.2,\n",
    "                                   zoom_range=0.2,\n",
    "                                   horizontal_flip=True)\n",
    "train_generator = train_datagen.flow_from_directory(\n",
    "                        train_data_dir,\n",
    "                        target_size=(nrow,ncol),\n",
    "                        batch_size=batch_size,\n",
    "                        class_mode='categorical')"
   ]
  },
  {
   "cell_type": "code",
   "execution_count": 7,
   "metadata": {},
   "outputs": [
    {
     "name": "stdout",
     "output_type": "stream",
     "text": [
      "Found 402 images belonging to 3 classes.\n"
     ]
    }
   ],
   "source": [
    "test_data_dir = './images_test'\n",
    "batch_size = 32\n",
    "test_datagen = ImageDataGenerator(rescale=1./255,\n",
    "                                   shear_range=0.2,\n",
    "                                   zoom_range=0.2,\n",
    "                                   horizontal_flip=True)\n",
    "test_generator = train_datagen.flow_from_directory(\n",
    "                        test_data_dir,\n",
    "                        target_size=(nrow,ncol),\n",
    "                        batch_size=batch_size,\n",
    "                        class_mode='categorical')"
   ]
  },
  {
   "cell_type": "code",
   "execution_count": 8,
   "metadata": {},
   "outputs": [],
   "source": [
    "model.compile(loss='categorical_crossentropy', optimizer='adam', metrics=['accuracy'])\n",
    "steps_per_epoch = train_generator.n // batch_size\n",
    "validation_steps = test_generator.n // batch_size"
   ]
  },
  {
   "cell_type": "code",
   "execution_count": 9,
   "metadata": {},
   "outputs": [
    {
     "name": "stdout",
     "output_type": "stream",
     "text": [
      "WARNING:tensorflow:From /usr/local/lib/python3.5/dist-packages/tensorflow/python/ops/math_ops.py:3066: to_int32 (from tensorflow.python.ops.math_ops) is deprecated and will be removed in a future version.\n",
      "Instructions for updating:\n",
      "Use tf.cast instead.\n",
      "Epoch 1/20\n",
      "13/13 [==============================] - 29s 2s/step - loss: 1.2578 - acc: 0.5821\n",
      "51/51 [==============================] - 103s 2s/step - loss: 0.9238 - acc: 0.5811 - val_loss: 1.2578 - val_acc: 0.5821\n",
      "Epoch 2/20\n",
      "13/13 [==============================] - 29s 2s/step - loss: 0.6700 - acc: 0.7413\n",
      "51/51 [==============================] - 88s 2s/step - loss: 0.6401 - acc: 0.7401 - val_loss: 0.6700 - val_acc: 0.7413\n",
      "Epoch 3/20\n",
      "13/13 [==============================] - 28s 2s/step - loss: 0.5407 - acc: 0.7836\n",
      "51/51 [==============================] - 86s 2s/step - loss: 0.5565 - acc: 0.7642 - val_loss: 0.5407 - val_acc: 0.7836\n",
      "Epoch 4/20\n",
      "13/13 [==============================] - 28s 2s/step - loss: 0.5485 - acc: 0.8010\n",
      "51/51 [==============================] - 87s 2s/step - loss: 0.4907 - acc: 0.7995 - val_loss: 0.5485 - val_acc: 0.8010\n",
      "Epoch 5/20\n",
      "13/13 [==============================] - 28s 2s/step - loss: 0.5116 - acc: 0.7910\n",
      "51/51 [==============================] - 87s 2s/step - loss: 0.4413 - acc: 0.8280 - val_loss: 0.5116 - val_acc: 0.7910\n",
      "Epoch 6/20\n",
      "13/13 [==============================] - 29s 2s/step - loss: 0.4602 - acc: 0.8234\n",
      "51/51 [==============================] - 88s 2s/step - loss: 0.4384 - acc: 0.8348 - val_loss: 0.4602 - val_acc: 0.8234\n",
      "Epoch 7/20\n",
      "13/13 [==============================] - 29s 2s/step - loss: 0.4421 - acc: 0.8209\n",
      "51/51 [==============================] - 85s 2s/step - loss: 0.3880 - acc: 0.8484 - val_loss: 0.4421 - val_acc: 0.8209\n",
      "Epoch 8/20\n",
      "13/13 [==============================] - 28s 2s/step - loss: 0.4749 - acc: 0.8085\n",
      "51/51 [==============================] - 85s 2s/step - loss: 0.3346 - acc: 0.8812 - val_loss: 0.4749 - val_acc: 0.8085\n",
      "Epoch 9/20\n",
      "13/13 [==============================] - 28s 2s/step - loss: 0.4725 - acc: 0.8109\n",
      "51/51 [==============================] - 84s 2s/step - loss: 0.3398 - acc: 0.8719 - val_loss: 0.4725 - val_acc: 0.8109\n",
      "Epoch 10/20\n",
      "13/13 [==============================] - 28s 2s/step - loss: 0.4336 - acc: 0.8308\n",
      "51/51 [==============================] - 86s 2s/step - loss: 0.3429 - acc: 0.8657 - val_loss: 0.4336 - val_acc: 0.8308\n",
      "Epoch 11/20\n",
      "13/13 [==============================] - 28s 2s/step - loss: 0.8778 - acc: 0.7164\n",
      "51/51 [==============================] - 85s 2s/step - loss: 0.3140 - acc: 0.8793 - val_loss: 0.8778 - val_acc: 0.7164\n",
      "Epoch 12/20\n",
      "13/13 [==============================] - 27s 2s/step - loss: 0.4288 - acc: 0.8433\n",
      "51/51 [==============================] - 86s 2s/step - loss: 0.3292 - acc: 0.8843 - val_loss: 0.4288 - val_acc: 0.8433\n",
      "Epoch 13/20\n",
      "13/13 [==============================] - 27s 2s/step - loss: 0.4722 - acc: 0.8259\n",
      "51/51 [==============================] - 85s 2s/step - loss: 0.2988 - acc: 0.8837 - val_loss: 0.4722 - val_acc: 0.8259\n",
      "Epoch 14/20\n",
      "13/13 [==============================] - 28s 2s/step - loss: 0.4710 - acc: 0.8408\n",
      "51/51 [==============================] - 85s 2s/step - loss: 0.2908 - acc: 0.8868 - val_loss: 0.4710 - val_acc: 0.8408\n",
      "Epoch 15/20\n",
      "13/13 [==============================] - 28s 2s/step - loss: 0.4941 - acc: 0.8308\n",
      "51/51 [==============================] - 84s 2s/step - loss: 0.3021 - acc: 0.8818 - val_loss: 0.4941 - val_acc: 0.8308\n",
      "Epoch 16/20\n",
      "13/13 [==============================] - 27s 2s/step - loss: 0.6483 - acc: 0.8060\n",
      "51/51 [==============================] - 83s 2s/step - loss: 0.2574 - acc: 0.9004 - val_loss: 0.6483 - val_acc: 0.8060\n",
      "Epoch 17/20\n",
      "13/13 [==============================] - 27s 2s/step - loss: 0.4420 - acc: 0.8333\n",
      "51/51 [==============================] - 86s 2s/step - loss: 0.2927 - acc: 0.8923 - val_loss: 0.4420 - val_acc: 0.8333\n",
      "Epoch 18/20\n",
      "13/13 [==============================] - 28s 2s/step - loss: 0.4617 - acc: 0.8433\n",
      "51/51 [==============================] - 85s 2s/step - loss: 0.2375 - acc: 0.9134 - val_loss: 0.4617 - val_acc: 0.8433\n",
      "Epoch 19/20\n",
      "13/13 [==============================] - 27s 2s/step - loss: 0.5188 - acc: 0.8134\n",
      "51/51 [==============================] - 83s 2s/step - loss: 0.2808 - acc: 0.8861 - val_loss: 0.5188 - val_acc: 0.8134\n",
      "Epoch 20/20\n",
      "13/13 [==============================] - 28s 2s/step - loss: 0.4446 - acc: 0.8483\n",
      "51/51 [==============================] - 84s 2s/step - loss: 0.2513 - acc: 0.9059 - val_loss: 0.4446 - val_acc: 0.8483\n"
     ]
    }
   ],
   "source": [
    "nepochs = 20  # Number of epochs\n",
    "\n",
    "# Call the fit_generator function\n",
    "hist = model.fit_generator(\n",
    "    train_generator,\n",
    "    epochs=nepochs,\n",
    "    steps_per_epoch=steps_per_epoch,\n",
    "    validation_data=test_generator,\n",
    "    validation_steps=validation_steps)"
   ]
  },
  {
   "cell_type": "code",
   "execution_count": 10,
   "metadata": {},
   "outputs": [
    {
     "data": {
      "text/plain": [
       "<matplotlib.legend.Legend at 0x7ff13c577828>"
      ]
     },
     "execution_count": 10,
     "metadata": {},
     "output_type": "execute_result"
    },
    {
     "data": {
      "image/png": "[encoded data removed]",
      "text/plain": [
       "<Figure size 432x288 with 1 Axes>"
      ]
     },
     "metadata": {},
     "output_type": "display_data"
    }
   ],
   "source": [
    "hist_his = hist.history\n",
    "acc = hist_his['acc']\n",
    "val_acc = hist_his['val_acc']\n",
    "plt.plot(acc)\n",
    "plt.plot(val_acc)\n",
    "plt.grid()\n",
    "plt.xlabel('Epoch')\n",
    "plt.ylabel('Accuracy')\n",
    "plt.legend(['acc','val_acc'], loc = 4)"
   ]
  },
  {
   "cell_type": "code",
   "execution_count": 11,
   "metadata": {},
   "outputs": [
    {
     "data": {
      "text/plain": [
       "<matplotlib.legend.Legend at 0x7ff13c481518>"
      ]
     },
     "execution_count": 11,
     "metadata": {},
     "output_type": "execute_result"
    },
    {
     "data": {
      "image/png": "[encoded data removed]",
      "text/plain": [
       "<Figure size 432x288 with 1 Axes>"
      ]
     },
     "metadata": {},
     "output_type": "display_data"
    }
   ],
   "source": [
    "loss = hist_his['loss']\n",
    "val_loss = hist_his['val_loss']\n",
    "plt.plot(loss)\n",
    "plt.plot(val_loss)\n",
    "plt.grid()\n",
    "plt.xlabel('Epoch')\n",
    "plt.ylabel('Loss')\n",
    "plt.legend(['loss','val_loss'], loc = 1)"
   ]
  },
  {
   "cell_type": "code",
   "execution_count": 12,
   "metadata": {},
   "outputs": [
    {
     "name": "stdout",
     "output_type": "stream",
     "text": [
      "[0.9197668498105341, 0.6389658262233923, 0.5544988536598658, 0.4881614077799391, 0.44060463657473575, 0.43979209454933016, 0.3903113628673081, 0.33251514175150654, 0.34068196362788133, 0.3435912899451681, 0.3143471346633269, 0.3304667539230668, 0.3004123606894276, 0.2883142184207935, 0.29904315701805717, 0.2581148448556957, 0.283596468001309, 0.23742855900880133, 0.28195172607308566, 0.25184559349966523]\n",
      "[1.2577795065366304, 0.6699514022240272, 0.5406953211014087, 0.5484803112653586, 0.5115789484519225, 0.4601581853169661, 0.44214536593510556, 0.47486457228660583, 0.4725213853212503, 0.43356338372597325, 0.8777518776746897, 0.42876676240792644, 0.47224560150733363, 0.47098710445257336, 0.4940937597018022, 0.6483332835710965, 0.44195979833602905, 0.46170809864997864, 0.5188222928689077, 0.444645609993201]\n",
      "[0.58106434, 0.740099, 0.7642327, 0.79950494, 0.8279703, 0.83477724, 0.8483911, 0.8811881, 0.8719059, 0.8657178, 0.8793317, 0.8842822, 0.88366336, 0.88675743, 0.8818069, 0.9003713, 0.8923267, 0.9133663, 0.8861386, 0.9059406]\n",
      "[0.58208954, 0.74129355, 0.7835821, 0.80099505, 0.7910448, 0.8233831, 0.8208955, 0.80845773, 0.8109453, 0.8308458, 0.7164179, 0.8432836, 0.82587063, 0.840796, 0.8308458, 0.80597013, 0.8333333, 0.8432836, 0.8134328, 0.84825873]\n"
     ]
    }
   ],
   "source": [
    "print(loss)\n",
    "print(val_loss)\n",
    "print(acc)\n",
    "print(val_acc)"
   ]
  },
  {
   "cell_type": "code",
   "execution_count": null,
   "metadata": {},
   "outputs": [],
   "source": []
  }
 ],
 "metadata": {
  "kernelspec": {
   "display_name": "Python 3",
   "language": "python",
   "name": "python3"
  },
  "language_info": {
   "codemirror_mode": {
    "name": "ipython",
    "version": 3
   },
   "file_extension": ".py",
   "mimetype": "text/x-python",
   "name": "python",
   "nbconvert_exporter": "python",
   "pygments_lexer": "ipython3",
   "version": "3.6.5"
  }
 },
 "nbformat": 4,
 "nbformat_minor": 2
}
