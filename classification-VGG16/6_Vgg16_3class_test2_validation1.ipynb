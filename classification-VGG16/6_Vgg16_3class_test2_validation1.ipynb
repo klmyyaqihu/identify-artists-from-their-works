{
 "cells": [
  {
   "cell_type": "markdown",
   "metadata": {},
   "source": [
    "#  First validation of test2\n",
    "\n",
    "Based on all three tests' results, the test2 has the best performance. Thus, we decide to repeat the test2's model two more times which verify the modle may work well on 30 classes.\n",
    "\n",
    "The results of this repeat goes well."
   ]
  },
  {
   "cell_type": "code",
   "execution_count": 1,
   "metadata": {},
   "outputs": [],
   "source": [
    "import numpy as np\n",
    "import os\n",
    "from tensorflow.keras import applications\n",
    "from tensorflow.keras.preprocessing.image import ImageDataGenerator\n",
    "from tensorflow.keras import optimizers, regularizers\n",
    "from tensorflow.keras.models import Sequential\n",
    "from tensorflow.keras.models import Model\n",
    "from tensorflow.keras.layers import Dropout, Flatten, Dense, GaussianNoise, BatchNormalization\n",
    "import matplotlib\n",
    "import matplotlib.pyplot as plt\n",
    "%matplotlib inline"
   ]
  },
  {
   "cell_type": "code",
   "execution_count": 2,
   "metadata": {},
   "outputs": [
    {
     "name": "stdout",
     "output_type": "stream",
     "text": [
      "[name: \"/device:CPU:0\"\n",
      "device_type: \"CPU\"\n",
      "memory_limit: 268435456\n",
      "locality {\n",
      "}\n",
      "incarnation: 14699118327036049130\n",
      ", name: \"/device:GPU:0\"\n",
      "device_type: \"GPU\"\n",
      "memory_limit: 2264907776\n",
      "locality {\n",
      "  bus_id: 1\n",
      "  links {\n",
      "  }\n",
      "}\n",
      "incarnation: 10900450880824840497\n",
      "physical_device_desc: \"device: 0, name: GeForce GTX 970M, pci bus id: 0000:01:00.0, compute capability: 5.2\"\n",
      "]\n"
     ]
    }
   ],
   "source": [
    "from tensorflow.python.client import device_lib\n",
    "print(device_lib.list_local_devices())"
   ]
  },
  {
   "cell_type": "code",
   "execution_count": 3,
   "metadata": {},
   "outputs": [],
   "source": [
    "import tensorflow.keras.backend as K\n",
    "K.clear_session()"
   ]
  },
  {
   "cell_type": "code",
   "execution_count": 4,
   "metadata": {},
   "outputs": [
    {
     "name": "stdout",
     "output_type": "stream",
     "text": [
      "WARNING:tensorflow:From D:\\Anaconda\\envs\\tensorflow\\lib\\site-packages\\tensorflow\\python\\ops\\resource_variable_ops.py:435: colocate_with (from tensorflow.python.framework.ops) is deprecated and will be removed in a future version.\n",
      "Instructions for updating:\n",
      "Colocations handled automatically by placer.\n",
      "WARNING:tensorflow:From D:\\Anaconda\\envs\\tensorflow\\lib\\site-packages\\tensorflow\\python\\keras\\layers\\core.py:143: calling dropout (from tensorflow.python.ops.nn_ops) with keep_prob is deprecated and will be removed in a future version.\n",
      "Instructions for updating:\n",
      "Please use `rate` instead of `keep_prob`. Rate should be set to `rate = 1 - keep_prob`.\n"
     ]
    }
   ],
   "source": [
    "nrow = 200\n",
    "ncol = 200\n",
    "nclass = 3\n",
    "base_model = applications.VGG16(weights='imagenet', input_shape=(nrow,ncol,3), include_top=False)\n",
    "for layer in base_model.layers:\n",
    "    layer.trainable = False\n",
    "\n",
    "x = base_model.output\n",
    "x = Flatten()(x)\n",
    "x = GaussianNoise(0.1)(x)\n",
    "x = Dropout(0.5)(x)\n",
    "x = Dense(2304, activation = 'relu')(x) # 18432/4\n",
    "x = GaussianNoise(0.1)(x) # add noise to mitigate overfitting (regularization layer)\n",
    "x = Dropout(0.5)(x)\n",
    "x = Dense(288, activation='relu')(x)\n",
    "x = BatchNormalization()(x)\n",
    "x = Dropout(0.5)(x)\n",
    "pred = Dense(nclass, activation='softmax', \n",
    "             kernel_initializer='random_uniform', \n",
    "             bias_initializer='random_uniform', \n",
    "             bias_regularizer=regularizers.l2(0.01), \n",
    "             name='predictions')(x) \n",
    "model = Model(inputs=base_model.input, outputs=pred)\n",
    "    "
   ]
  },
  {
   "cell_type": "code",
   "execution_count": 5,
   "metadata": {},
   "outputs": [
    {
     "name": "stdout",
     "output_type": "stream",
     "text": [
      "_________________________________________________________________\n",
      "Layer (type)                 Output Shape              Param #   \n",
      "=================================================================\n",
      "input_1 (InputLayer)         (None, 200, 200, 3)       0         \n",
      "_________________________________________________________________\n",
      "block1_conv1 (Conv2D)        (None, 200, 200, 64)      1792      \n",
      "_________________________________________________________________\n",
      "block1_conv2 (Conv2D)        (None, 200, 200, 64)      36928     \n",
      "_________________________________________________________________\n",
      "block1_pool (MaxPooling2D)   (None, 100, 100, 64)      0         \n",
      "_________________________________________________________________\n",
      "block2_conv1 (Conv2D)        (None, 100, 100, 128)     73856     \n",
      "_________________________________________________________________\n",
      "block2_conv2 (Conv2D)        (None, 100, 100, 128)     147584    \n",
      "_________________________________________________________________\n",
      "block2_pool (MaxPooling2D)   (None, 50, 50, 128)       0         \n",
      "_________________________________________________________________\n",
      "block3_conv1 (Conv2D)        (None, 50, 50, 256)       295168    \n",
      "_________________________________________________________________\n",
      "block3_conv2 (Conv2D)        (None, 50, 50, 256)       590080    \n",
      "_________________________________________________________________\n",
      "block3_conv3 (Conv2D)        (None, 50, 50, 256)       590080    \n",
      "_________________________________________________________________\n",
      "block3_pool (MaxPooling2D)   (None, 25, 25, 256)       0         \n",
      "_________________________________________________________________\n",
      "block4_conv1 (Conv2D)        (None, 25, 25, 512)       1180160   \n",
      "_________________________________________________________________\n",
      "block4_conv2 (Conv2D)        (None, 25, 25, 512)       2359808   \n",
      "_________________________________________________________________\n",
      "block4_conv3 (Conv2D)        (None, 25, 25, 512)       2359808   \n",
      "_________________________________________________________________\n",
      "block4_pool (MaxPooling2D)   (None, 12, 12, 512)       0         \n",
      "_________________________________________________________________\n",
      "block5_conv1 (Conv2D)        (None, 12, 12, 512)       2359808   \n",
      "_________________________________________________________________\n",
      "block5_conv2 (Conv2D)        (None, 12, 12, 512)       2359808   \n",
      "_________________________________________________________________\n",
      "block5_conv3 (Conv2D)        (None, 12, 12, 512)       2359808   \n",
      "_________________________________________________________________\n",
      "block5_pool (MaxPooling2D)   (None, 6, 6, 512)         0         \n",
      "_________________________________________________________________\n",
      "flatten (Flatten)            (None, 18432)             0         \n",
      "_________________________________________________________________\n",
      "gaussian_noise (GaussianNois (None, 18432)             0         \n",
      "_________________________________________________________________\n",
      "dropout (Dropout)            (None, 18432)             0         \n",
      "_________________________________________________________________\n",
      "dense (Dense)                (None, 2304)              42469632  \n",
      "_________________________________________________________________\n",
      "gaussian_noise_1 (GaussianNo (None, 2304)              0         \n",
      "_________________________________________________________________\n",
      "dropout_1 (Dropout)          (None, 2304)              0         \n",
      "_________________________________________________________________\n",
      "dense_1 (Dense)              (None, 288)               663840    \n",
      "_________________________________________________________________\n",
      "batch_normalization_v1 (Batc (None, 288)               1152      \n",
      "_________________________________________________________________\n",
      "dropout_2 (Dropout)          (None, 288)               0         \n",
      "_________________________________________________________________\n",
      "predictions (Dense)          (None, 3)                 867       \n",
      "=================================================================\n",
      "Total params: 57,850,179\n",
      "Trainable params: 43,134,915\n",
      "Non-trainable params: 14,715,264\n",
      "_________________________________________________________________\n"
     ]
    }
   ],
   "source": [
    "model.summary()"
   ]
  },
  {
   "cell_type": "code",
   "execution_count": 6,
   "metadata": {},
   "outputs": [
    {
     "name": "stdout",
     "output_type": "stream",
     "text": [
      "Found 1616 images belonging to 3 classes.\n"
     ]
    }
   ],
   "source": [
    "train_data_dir = './images_train'\n",
    "batch_size = 10\n",
    "train_datagen = ImageDataGenerator(rescale=1./255,\n",
    "                                   shear_range=0.2,\n",
    "                                   zoom_range=0.2,\n",
    "                                   horizontal_flip=True)\n",
    "train_generator = train_datagen.flow_from_directory(\n",
    "                        train_data_dir,\n",
    "                        target_size=(nrow,ncol),\n",
    "                        batch_size=batch_size,\n",
    "                        class_mode='categorical')"
   ]
  },
  {
   "cell_type": "code",
   "execution_count": 7,
   "metadata": {},
   "outputs": [
    {
     "name": "stdout",
     "output_type": "stream",
     "text": [
      "Found 402 images belonging to 3 classes.\n"
     ]
    }
   ],
   "source": [
    "test_data_dir = './images_test'\n",
    "batch_size = 10\n",
    "test_datagen = ImageDataGenerator(rescale=1./255,\n",
    "                                   shear_range=0.2,\n",
    "                                   zoom_range=0.2,\n",
    "                                   horizontal_flip=True)\n",
    "test_generator = train_datagen.flow_from_directory(\n",
    "                        test_data_dir,\n",
    "                        target_size=(nrow,ncol),\n",
    "                        batch_size=batch_size,\n",
    "                        class_mode='categorical')"
   ]
  },
  {
   "cell_type": "code",
   "execution_count": 8,
   "metadata": {},
   "outputs": [],
   "source": [
    "model.compile(loss='categorical_crossentropy', optimizer='adam', metrics=['accuracy'])\n",
    "steps_per_epoch = train_generator.n // batch_size\n",
    "validation_steps = test_generator.n // batch_size"
   ]
  },
  {
   "cell_type": "code",
   "execution_count": 9,
   "metadata": {},
   "outputs": [
    {
     "name": "stdout",
     "output_type": "stream",
     "text": [
      "WARNING:tensorflow:From D:\\Anaconda\\envs\\tensorflow\\lib\\site-packages\\tensorflow\\python\\ops\\math_ops.py:3066: to_int32 (from tensorflow.python.ops.math_ops) is deprecated and will be removed in a future version.\n",
      "Instructions for updating:\n",
      "Use tf.cast instead.\n",
      "Epoch 1/20\n",
      "41/41 [==============================] - 12s 281ms/step - loss: 0.7035 - acc: 0.7264\n",
      "162/162 [==============================] - 51s 316ms/step - loss: 0.9289 - acc: 0.5705 - val_loss: 0.7035 - val_acc: 0.7264\n",
      "Epoch 2/20\n",
      "41/41 [==============================] - 10s 234ms/step - loss: 0.5645 - acc: 0.7562\n",
      "162/162 [==============================] - 49s 303ms/step - loss: 0.7224 - acc: 0.6850 - val_loss: 0.5645 - val_acc: 0.7562\n",
      "Epoch 3/20\n",
      "41/41 [==============================] - 10s 251ms/step - loss: 0.7018 - acc: 0.6915\n",
      "162/162 [==============================] - 49s 300ms/step - loss: 0.6750 - acc: 0.7290 - val_loss: 0.7018 - val_acc: 0.6915\n",
      "Epoch 4/20\n",
      "41/41 [==============================] - 11s 262ms/step - loss: 0.5393 - acc: 0.7886\n",
      "162/162 [==============================] - 48s 299ms/step - loss: 0.6296 - acc: 0.7450 - val_loss: 0.5393 - val_acc: 0.7886\n",
      "Epoch 5/20\n",
      "41/41 [==============================] - 11s 268ms/step - loss: 0.5456 - acc: 0.7811\n",
      "162/162 [==============================] - 51s 315ms/step - loss: 0.5613 - acc: 0.7816 - val_loss: 0.5456 - val_acc: 0.7811\n",
      "Epoch 6/20\n",
      "41/41 [==============================] - 10s 238ms/step - loss: 0.4797 - acc: 0.8109\n",
      "162/162 [==============================] - 50s 306ms/step - loss: 0.5882 - acc: 0.7785 - val_loss: 0.4797 - val_acc: 0.8109\n",
      "Epoch 7/20\n",
      "41/41 [==============================] - 11s 272ms/step - loss: 0.5121 - acc: 0.7761\n",
      "162/162 [==============================] - 50s 309ms/step - loss: 0.5580 - acc: 0.7797 - val_loss: 0.5121 - val_acc: 0.7761\n",
      "Epoch 8/20\n",
      "41/41 [==============================] - 10s 234ms/step - loss: 0.6488 - acc: 0.7886\n",
      "162/162 [==============================] - 48s 295ms/step - loss: 0.5140 - acc: 0.7970 - val_loss: 0.6488 - val_acc: 0.7886\n",
      "Epoch 9/20\n",
      "41/41 [==============================] - 11s 271ms/step - loss: 0.4694 - acc: 0.8209\n",
      "162/162 [==============================] - 51s 313ms/step - loss: 0.5074 - acc: 0.8032 - val_loss: 0.4694 - val_acc: 0.8209\n",
      "Epoch 10/20\n",
      "41/41 [==============================] - 9s 232ms/step - loss: 0.4876 - acc: 0.7960\n",
      "162/162 [==============================] - 49s 305ms/step - loss: 0.5211 - acc: 0.7884 - val_loss: 0.4876 - val_acc: 0.7960\n",
      "Epoch 11/20\n",
      "41/41 [==============================] - 9s 230ms/step - loss: 0.4746 - acc: 0.8035\n",
      "162/162 [==============================] - 51s 312ms/step - loss: 0.5444 - acc: 0.7946 - val_loss: 0.4746 - val_acc: 0.8035\n",
      "Epoch 12/20\n",
      "41/41 [==============================] - 12s 297ms/step - loss: 0.4461 - acc: 0.8284\n",
      "162/162 [==============================] - 52s 321ms/step - loss: 0.4821 - acc: 0.8162 - val_loss: 0.4461 - val_acc: 0.8284\n",
      "Epoch 13/20\n",
      "41/41 [==============================] - 11s 262ms/step - loss: 0.5734 - acc: 0.7786\n",
      "162/162 [==============================] - 56s 346ms/step - loss: 0.4607 - acc: 0.8261 - val_loss: 0.5734 - val_acc: 0.7786\n",
      "Epoch 14/20\n",
      "41/41 [==============================] - 10s 236ms/step - loss: 0.4948 - acc: 0.8010\n",
      "162/162 [==============================] - 49s 302ms/step - loss: 0.4501 - acc: 0.8304 - val_loss: 0.4948 - val_acc: 0.8010\n",
      "Epoch 15/20\n",
      "41/41 [==============================] - 10s 249ms/step - loss: 0.4757 - acc: 0.8209\n",
      "162/162 [==============================] - 49s 303ms/step - loss: 0.4397 - acc: 0.8298 - val_loss: 0.4757 - val_acc: 0.8209\n",
      "Epoch 16/20\n",
      "41/41 [==============================] - 10s 253ms/step - loss: 0.4391 - acc: 0.8383\n",
      "162/162 [==============================] - 50s 309ms/step - loss: 0.4537 - acc: 0.8205 - val_loss: 0.4391 - val_acc: 0.8383\n",
      "Epoch 17/20\n",
      "41/41 [==============================] - 12s 289ms/step - loss: 0.4942 - acc: 0.8085\n",
      "162/162 [==============================] - 50s 308ms/step - loss: 0.4363 - acc: 0.8447 - val_loss: 0.4942 - val_acc: 0.8085\n",
      "Epoch 18/20\n",
      "41/41 [==============================] - 10s 232ms/step - loss: 0.5018 - acc: 0.7985\n",
      "162/162 [==============================] - 49s 303ms/step - loss: 0.4435 - acc: 0.8416 - val_loss: 0.5018 - val_acc: 0.7985\n",
      "Epoch 19/20\n",
      "41/41 [==============================] - 11s 261ms/step - loss: 0.5036 - acc: 0.8060\n",
      "162/162 [==============================] - 50s 310ms/step - loss: 0.4563 - acc: 0.8311 - val_loss: 0.5036 - val_acc: 0.8060\n",
      "Epoch 20/20\n",
      "41/41 [==============================] - 11s 259ms/step - loss: 0.4577 - acc: 0.8109\n",
      "162/162 [==============================] - 48s 299ms/step - loss: 0.4124 - acc: 0.8416 - val_loss: 0.4577 - val_acc: 0.8109\n"
     ]
    }
   ],
   "source": [
    "nepochs = 20  # Number of epochs\n",
    "\n",
    "# Call the fit_generator function\n",
    "hist = model.fit_generator(\n",
    "    train_generator,\n",
    "    epochs=nepochs,\n",
    "    steps_per_epoch=steps_per_epoch,\n",
    "    validation_data=test_generator,\n",
    "    validation_steps=validation_steps)"
   ]
  },
  {
   "cell_type": "code",
   "execution_count": 10,
   "metadata": {},
   "outputs": [
    {
     "data": {
      "text/plain": [
       "<matplotlib.legend.Legend at 0x1a406a05940>"
      ]
     },
     "execution_count": 10,
     "metadata": {},
     "output_type": "execute_result"
    },
    {
     "data": {
      "image/png": "[encoded data removed]",
      "text/plain": [
       "<Figure size 432x288 with 1 Axes>"
      ]
     },
     "metadata": {
      "needs_background": "light"
     },
     "output_type": "display_data"
    }
   ],
   "source": [
    "hist_his = hist.history\n",
    "acc = hist_his['acc']\n",
    "val_acc = hist_his['val_acc']\n",
    "plt.plot(acc)\n",
    "plt.plot(val_acc)\n",
    "plt.grid()\n",
    "plt.xlabel('Epoch')\n",
    "plt.ylabel('Accuracy')\n",
    "plt.legend(['acc','val_acc'], loc = 4)"
   ]
  },
  {
   "cell_type": "code",
   "execution_count": 11,
   "metadata": {},
   "outputs": [
    {
     "data": {
      "text/plain": [
       "<matplotlib.legend.Legend at 0x1a41f41f8d0>"
      ]
     },
     "execution_count": 11,
     "metadata": {},
     "output_type": "execute_result"
    },
    {
     "data": {
      "image/png": "[encoded data removed]",
      "text/plain": [
       "<Figure size 432x288 with 1 Axes>"
      ]
     },
     "metadata": {
      "needs_background": "light"
     },
     "output_type": "display_data"
    }
   ],
   "source": [
    "loss = hist_his['loss']\n",
    "val_loss = hist_his['val_loss']\n",
    "plt.plot(loss)\n",
    "plt.plot(val_loss)\n",
    "plt.grid()\n",
    "plt.xlabel('Epoch')\n",
    "plt.ylabel('Loss')\n",
    "plt.legend(['loss','val_loss'], loc = 1)"
   ]
  },
  {
   "cell_type": "code",
   "execution_count": 12,
   "metadata": {},
   "outputs": [
    {
     "name": "stdout",
     "output_type": "stream",
     "text": [
      "[0.9289161065353615, 0.7224967200677879, 0.6759471297264099, 0.6306312879418382, 0.5615544472959372, 0.5874900020161035, 0.556419783779005, 0.5151083443018765, 0.5072679424308019, 0.5212524245944944, 0.5445805789423314, 0.4830270196947426, 0.45990993905960037, 0.45074576311883063, 0.44000948075721463, 0.45428610602301533, 0.43651072863526275, 0.4407050690088089, 0.45363716278594024, 0.4122254128826063]\n",
      "[0.7035112217432116, 0.5645308351007904, 0.7017756362513798, 0.5393307526118871, 0.5456454886532411, 0.4796854878616769, 0.5120801929293609, 0.6487705882911275, 0.469417158241679, 0.4875728570651717, 0.47461483354975537, 0.44605547989287025, 0.5734203847624907, 0.49476630040785163, 0.4756545166416866, 0.43909876557385047, 0.4941506394889297, 0.5017719225185674, 0.5036047856982161, 0.4576926866500843]\n",
      "[0.57054454, 0.68502474, 0.7289604, 0.7450495, 0.7815594, 0.77846533, 0.77970296, 0.7970297, 0.8032178, 0.7883663, 0.7945545, 0.8162129, 0.8261139, 0.8304455, 0.8298267, 0.82054454, 0.8446782, 0.84158415, 0.83106434, 0.84158415]\n",
      "[0.7263682, 0.7562189, 0.69154227, 0.78855723, 0.78109455, 0.8109453, 0.7761194, 0.78855723, 0.8208955, 0.7960199, 0.8034826, 0.82835823, 0.77860695, 0.80099505, 0.8208955, 0.83830845, 0.80845773, 0.79850745, 0.80597013, 0.8109453]\n"
     ]
    }
   ],
   "source": [
    "print(loss)\n",
    "print(val_loss)\n",
    "print(acc)\n",
    "print(val_acc)"
   ]
  },
  {
   "cell_type": "code",
   "execution_count": null,
   "metadata": {},
   "outputs": [],
   "source": []
  }
 ],
 "metadata": {
  "kernelspec": {
   "display_name": "Python 3",
   "language": "python",
   "name": "python3"
  },
  "language_info": {
   "codemirror_mode": {
    "name": "ipython",
    "version": 3
   },
   "file_extension": ".py",
   "mimetype": "text/x-python",
   "name": "python",
   "nbconvert_exporter": "python",
   "pygments_lexer": "ipython3",
   "version": "3.6.5"
  }
 },
 "nbformat": 4,
 "nbformat_minor": 2
}
