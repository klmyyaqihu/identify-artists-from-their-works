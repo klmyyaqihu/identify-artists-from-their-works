{
 "cells": [
  {
   "cell_type": "markdown",
   "metadata": {},
   "source": [
    "# Run VGG16 on selected 3 classes without tuning\n",
    "\n",
    "In this part, we only loads 3 classes with most paintings in VGG16 and still without tuning, because we need to compare it with the other tuned versions.\n",
    "\n",
    "Though this time we only run 20 epochs, we can still see there exists overfitting."
   ]
  },
  {
   "cell_type": "code",
   "execution_count": 1,
   "metadata": {},
   "outputs": [],
   "source": [
    "import numpy as np\n",
    "import os\n",
    "from tensorflow.keras import applications\n",
    "from tensorflow.keras.preprocessing.image import ImageDataGenerator\n",
    "from tensorflow.keras import optimizers\n",
    "from tensorflow.keras.models import Sequential\n",
    "from tensorflow.keras.models import Model\n",
    "from tensorflow.keras.layers import Dropout, Flatten, Dense\n",
    "import matplotlib\n",
    "import matplotlib.pyplot as plt\n",
    "%matplotlib inline"
   ]
  },
  {
   "cell_type": "code",
   "execution_count": 2,
   "metadata": {},
   "outputs": [
    {
     "name": "stdout",
     "output_type": "stream",
     "text": [
      "[name: \"/device:CPU:0\"\n",
      "device_type: \"CPU\"\n",
      "memory_limit: 268435456\n",
      "locality {\n",
      "}\n",
      "incarnation: 8866674015826737595\n",
      ", name: \"/device:GPU:0\"\n",
      "device_type: \"GPU\"\n",
      "memory_limit: 2264907776\n",
      "locality {\n",
      "  bus_id: 1\n",
      "  links {\n",
      "  }\n",
      "}\n",
      "incarnation: 10400245706179158261\n",
      "physical_device_desc: \"device: 0, name: GeForce GTX 970M, pci bus id: 0000:01:00.0, compute capability: 5.2\"\n",
      "]\n"
     ]
    }
   ],
   "source": [
    "from tensorflow.python.client import device_lib\n",
    "print(device_lib.list_local_devices())"
   ]
  },
  {
   "cell_type": "code",
   "execution_count": 3,
   "metadata": {},
   "outputs": [],
   "source": [
    "import tensorflow.keras.backend as K\n",
    "K.clear_session()"
   ]
  },
  {
   "cell_type": "code",
   "execution_count": 4,
   "metadata": {},
   "outputs": [
    {
     "name": "stdout",
     "output_type": "stream",
     "text": [
      "WARNING:tensorflow:From D:\\Anaconda\\envs\\tensorflow\\lib\\site-packages\\tensorflow\\python\\ops\\resource_variable_ops.py:435: colocate_with (from tensorflow.python.framework.ops) is deprecated and will be removed in a future version.\n",
      "Instructions for updating:\n",
      "Colocations handled automatically by placer.\n"
     ]
    }
   ],
   "source": [
    "nrow = 200\n",
    "ncol = 200\n",
    "base_model = applications.VGG16(weights='imagenet', input_shape=(nrow,ncol,3), include_top=False)\n",
    "model = Sequential()\n",
    "\n",
    "for layer in base_model.layers:\n",
    "    model.add(layer)\n",
    "for layer in model.layers:\n",
    "    layer.trainable = False"
   ]
  },
  {
   "cell_type": "code",
   "execution_count": 5,
   "metadata": {},
   "outputs": [
    {
     "name": "stdout",
     "output_type": "stream",
     "text": [
      "_________________________________________________________________\n",
      "Layer (type)                 Output Shape              Param #   \n",
      "=================================================================\n",
      "block1_conv1 (Conv2D)        (None, 200, 200, 64)      1792      \n",
      "_________________________________________________________________\n",
      "block1_conv2 (Conv2D)        (None, 200, 200, 64)      36928     \n",
      "_________________________________________________________________\n",
      "block1_pool (MaxPooling2D)   (None, 100, 100, 64)      0         \n",
      "_________________________________________________________________\n",
      "block2_conv1 (Conv2D)        (None, 100, 100, 128)     73856     \n",
      "_________________________________________________________________\n",
      "block2_conv2 (Conv2D)        (None, 100, 100, 128)     147584    \n",
      "_________________________________________________________________\n",
      "block2_pool (MaxPooling2D)   (None, 50, 50, 128)       0         \n",
      "_________________________________________________________________\n",
      "block3_conv1 (Conv2D)        (None, 50, 50, 256)       295168    \n",
      "_________________________________________________________________\n",
      "block3_conv2 (Conv2D)        (None, 50, 50, 256)       590080    \n",
      "_________________________________________________________________\n",
      "block3_conv3 (Conv2D)        (None, 50, 50, 256)       590080    \n",
      "_________________________________________________________________\n",
      "block3_pool (MaxPooling2D)   (None, 25, 25, 256)       0         \n",
      "_________________________________________________________________\n",
      "block4_conv1 (Conv2D)        (None, 25, 25, 512)       1180160   \n",
      "_________________________________________________________________\n",
      "block4_conv2 (Conv2D)        (None, 25, 25, 512)       2359808   \n",
      "_________________________________________________________________\n",
      "block4_conv3 (Conv2D)        (None, 25, 25, 512)       2359808   \n",
      "_________________________________________________________________\n",
      "block4_pool (MaxPooling2D)   (None, 12, 12, 512)       0         \n",
      "_________________________________________________________________\n",
      "block5_conv1 (Conv2D)        (None, 12, 12, 512)       2359808   \n",
      "_________________________________________________________________\n",
      "block5_conv2 (Conv2D)        (None, 12, 12, 512)       2359808   \n",
      "_________________________________________________________________\n",
      "block5_conv3 (Conv2D)        (None, 12, 12, 512)       2359808   \n",
      "_________________________________________________________________\n",
      "block5_pool (MaxPooling2D)   (None, 6, 6, 512)         0         \n",
      "_________________________________________________________________\n",
      "flatten (Flatten)            (None, 18432)             0         \n",
      "_________________________________________________________________\n",
      "dense (Dense)                (None, 3)                 55299     \n",
      "=================================================================\n",
      "Total params: 14,769,987\n",
      "Trainable params: 55,299\n",
      "Non-trainable params: 14,714,688\n",
      "_________________________________________________________________\n"
     ]
    }
   ],
   "source": [
    "model.add(Flatten())\n",
    "model.add(Dense(3, activation = 'softmax'))\n",
    "model.summary()"
   ]
  },
  {
   "cell_type": "code",
   "execution_count": 6,
   "metadata": {},
   "outputs": [
    {
     "name": "stdout",
     "output_type": "stream",
     "text": [
      "Found 1616 images belonging to 3 classes.\n"
     ]
    }
   ],
   "source": [
    "train_data_dir = './images_train'\n",
    "batch_size = 32\n",
    "train_datagen = ImageDataGenerator(rescale=1./255,\n",
    "                                   shear_range=0.2,\n",
    "                                   zoom_range=0.2,\n",
    "                                   horizontal_flip=True)\n",
    "train_generator = train_datagen.flow_from_directory(\n",
    "                        train_data_dir,\n",
    "                        target_size=(nrow,ncol),\n",
    "                        batch_size=batch_size,\n",
    "                        class_mode='categorical')"
   ]
  },
  {
   "cell_type": "code",
   "execution_count": 7,
   "metadata": {},
   "outputs": [
    {
     "name": "stdout",
     "output_type": "stream",
     "text": [
      "Found 402 images belonging to 3 classes.\n"
     ]
    }
   ],
   "source": [
    "test_data_dir = './images_test'\n",
    "batch_size = 32\n",
    "test_datagen = ImageDataGenerator(rescale=1./255,\n",
    "                                   shear_range=0.2,\n",
    "                                   zoom_range=0.2,\n",
    "                                   horizontal_flip=True)\n",
    "test_generator = train_datagen.flow_from_directory(\n",
    "                        test_data_dir,\n",
    "                        target_size=(nrow,ncol),\n",
    "                        batch_size=batch_size,\n",
    "                        class_mode='categorical')"
   ]
  },
  {
   "cell_type": "code",
   "execution_count": 8,
   "metadata": {},
   "outputs": [],
   "source": [
    "model.compile(loss='categorical_crossentropy', optimizer='adam', metrics=['accuracy'])\n",
    "steps_per_epoch = train_generator.n // batch_size\n",
    "validation_steps = test_generator.n // batch_size"
   ]
  },
  {
   "cell_type": "code",
   "execution_count": 9,
   "metadata": {},
   "outputs": [
    {
     "name": "stdout",
     "output_type": "stream",
     "text": [
      "WARNING:tensorflow:From D:\\Anaconda\\envs\\tensorflow\\lib\\site-packages\\tensorflow\\python\\ops\\math_ops.py:3066: to_int32 (from tensorflow.python.ops.math_ops) is deprecated and will be removed in a future version.\n",
      "Instructions for updating:\n",
      "Use tf.cast instead.\n",
      "Epoch 1/20\n",
      "13/13 [==============================] - 13s 975ms/step - loss: 0.5347 - acc: 0.7662\n",
      "51/51 [==============================] - 48s 951ms/step - loss: 0.7488 - acc: 0.6912 - val_loss: 0.5347 - val_acc: 0.7662\n",
      "Epoch 2/20\n",
      "13/13 [==============================] - 11s 884ms/step - loss: 0.4963 - acc: 0.8085\n",
      "51/51 [==============================] - 41s 803ms/step - loss: 0.4483 - acc: 0.8274 - val_loss: 0.4963 - val_acc: 0.8085\n",
      "Epoch 3/20\n",
      "13/13 [==============================] - 11s 879ms/step - loss: 0.5242 - acc: 0.8159\n",
      "51/51 [==============================] - 41s 801ms/step - loss: 0.3342 - acc: 0.8818 - val_loss: 0.5242 - val_acc: 0.8159\n",
      "Epoch 4/20\n",
      "13/13 [==============================] - 13s 1s/step - loss: 0.4377 - acc: 0.8308\n",
      "51/51 [==============================] - 43s 848ms/step - loss: 0.3334 - acc: 0.8824 - val_loss: 0.4377 - val_acc: 0.8308\n",
      "Epoch 5/20\n",
      "13/13 [==============================] - 13s 1s/step - loss: 0.4771 - acc: 0.8184\n",
      "51/51 [==============================] - 42s 832ms/step - loss: 0.2429 - acc: 0.9233 - val_loss: 0.4771 - val_acc: 0.8184\n",
      "Epoch 6/20\n",
      "13/13 [==============================] - 11s 851ms/step - loss: 0.5297 - acc: 0.7910\n",
      "51/51 [==============================] - 44s 864ms/step - loss: 0.2409 - acc: 0.9165 - val_loss: 0.5297 - val_acc: 0.7910\n",
      "Epoch 7/20\n",
      "13/13 [==============================] - 10s 773ms/step - loss: 0.4441 - acc: 0.8383\n",
      "51/51 [==============================] - 38s 750ms/step - loss: 0.2070 - acc: 0.9301 - val_loss: 0.4441 - val_acc: 0.8383\n",
      "Epoch 8/20\n",
      "13/13 [==============================] - 10s 781ms/step - loss: 0.4205 - acc: 0.8408\n",
      "51/51 [==============================] - 38s 746ms/step - loss: 0.1901 - acc: 0.9356 - val_loss: 0.4205 - val_acc: 0.8408\n",
      "Epoch 9/20\n",
      "13/13 [==============================] - 11s 829ms/step - loss: 0.4478 - acc: 0.8458\n",
      "51/51 [==============================] - 38s 745ms/step - loss: 0.1703 - acc: 0.9486 - val_loss: 0.4478 - val_acc: 0.8458\n",
      "Epoch 10/20\n",
      "13/13 [==============================] - 12s 953ms/step - loss: 0.4054 - acc: 0.8259\n",
      "51/51 [==============================] - 41s 803ms/step - loss: 0.1497 - acc: 0.9554 - val_loss: 0.4054 - val_acc: 0.8259\n",
      "Epoch 11/20\n",
      "13/13 [==============================] - 11s 827ms/step - loss: 0.4796 - acc: 0.8433\n",
      "51/51 [==============================] - 38s 739ms/step - loss: 0.1369 - acc: 0.9616 - val_loss: 0.4796 - val_acc: 0.8433\n",
      "Epoch 12/20\n",
      "13/13 [==============================] - 11s 882ms/step - loss: 0.3918 - acc: 0.8507\n",
      "51/51 [==============================] - 40s 779ms/step - loss: 0.1280 - acc: 0.9635 - val_loss: 0.3918 - val_acc: 0.8507\n",
      "Epoch 13/20\n",
      "13/13 [==============================] - 11s 869ms/step - loss: 0.4435 - acc: 0.8383\n",
      "51/51 [==============================] - 38s 737ms/step - loss: 0.1169 - acc: 0.9709 - val_loss: 0.4435 - val_acc: 0.8383\n",
      "Epoch 14/20\n",
      "13/13 [==============================] - 12s 923ms/step - loss: 0.5926 - acc: 0.7886\n",
      "51/51 [==============================] - 40s 778ms/step - loss: 0.1165 - acc: 0.9653 - val_loss: 0.5926 - val_acc: 0.7886\n",
      "Epoch 15/20\n",
      "13/13 [==============================] - 11s 884ms/step - loss: 0.4586 - acc: 0.8284\n",
      "51/51 [==============================] - 39s 774ms/step - loss: 0.1200 - acc: 0.9573 - val_loss: 0.4586 - val_acc: 0.8284\n",
      "Epoch 16/20\n",
      "13/13 [==============================] - 13s 1s/step - loss: 0.4632 - acc: 0.8408\n",
      "51/51 [==============================] - 44s 866ms/step - loss: 0.1036 - acc: 0.9722 - val_loss: 0.4632 - val_acc: 0.8408\n",
      "Epoch 17/20\n",
      "13/13 [==============================] - 12s 939ms/step - loss: 0.4997 - acc: 0.8408\n",
      "51/51 [==============================] - 44s 855ms/step - loss: 0.0895 - acc: 0.9851 - val_loss: 0.4997 - val_acc: 0.8408\n",
      "Epoch 18/20\n",
      "13/13 [==============================] - 10s 780ms/step - loss: 0.4993 - acc: 0.8358\n",
      "51/51 [==============================] - 37s 726ms/step - loss: 0.1238 - acc: 0.9604 - val_loss: 0.4993 - val_acc: 0.8358\n",
      "Epoch 19/20\n",
      "13/13 [==============================] - 10s 803ms/step - loss: 0.5603 - acc: 0.8085\n",
      "51/51 [==============================] - 42s 823ms/step - loss: 0.0796 - acc: 0.9783 - val_loss: 0.5603 - val_acc: 0.8085\n",
      "Epoch 20/20\n",
      "13/13 [==============================] - 10s 781ms/step - loss: 0.4830 - acc: 0.8284\n",
      "51/51 [==============================] - 38s 750ms/step - loss: 0.0806 - acc: 0.9833 - val_loss: 0.4830 - val_acc: 0.8284\n"
     ]
    }
   ],
   "source": [
    "nepochs = 20  # Number of epochs\n",
    "\n",
    "# Call the fit_generator function\n",
    "hist = model.fit_generator(\n",
    "    train_generator,\n",
    "    epochs=nepochs,\n",
    "    steps_per_epoch=steps_per_epoch,\n",
    "    validation_data=test_generator,\n",
    "    validation_steps=validation_steps)"
   ]
  },
  {
   "cell_type": "code",
   "execution_count": 10,
   "metadata": {},
   "outputs": [
    {
     "data": {
      "text/plain": [
       "<matplotlib.legend.Legend at 0x1445d9b44e0>"
      ]
     },
     "execution_count": 10,
     "metadata": {},
     "output_type": "execute_result"
    },
    {
     "data": {
      "image/png": "[encoded data removed]",
      "text/plain": [
       "<Figure size 432x288 with 1 Axes>"
      ]
     },
     "metadata": {
      "needs_background": "light"
     },
     "output_type": "display_data"
    }
   ],
   "source": [
    "hist_his = hist.history\n",
    "acc = hist_his['acc']\n",
    "val_acc = hist_his['val_acc']\n",
    "plt.plot(acc)\n",
    "plt.plot(val_acc)\n",
    "plt.grid()\n",
    "plt.xlabel('Epoch')\n",
    "plt.ylabel('Accuracy')\n",
    "plt.legend(['acc','val_acc'], loc = 4)"
   ]
  },
  {
   "cell_type": "code",
   "execution_count": 11,
   "metadata": {},
   "outputs": [
    {
     "data": {
      "text/plain": [
       "<matplotlib.legend.Legend at 0x14476bee470>"
      ]
     },
     "execution_count": 11,
     "metadata": {},
     "output_type": "execute_result"
    },
    {
     "data": {
      "image/png": "[encoded data removed]",
      "text/plain": [
       "<Figure size 432x288 with 1 Axes>"
      ]
     },
     "metadata": {
      "needs_background": "light"
     },
     "output_type": "display_data"
    }
   ],
   "source": [
    "loss = hist_his['loss']\n",
    "val_loss = hist_his['val_loss']\n",
    "plt.plot(loss)\n",
    "plt.plot(val_loss)\n",
    "plt.grid()\n",
    "plt.xlabel('Epoch')\n",
    "plt.ylabel('Loss')\n",
    "plt.legend(['loss','val_loss'], loc = 1)"
   ]
  },
  {
   "cell_type": "code",
   "execution_count": 12,
   "metadata": {},
   "outputs": [
    {
     "name": "stdout",
     "output_type": "stream",
     "text": [
      "[0.7509350723559314, 0.4501491076875441, 0.33513500932419654, 0.3324616008465833, 0.24263272545125225, 0.23967051196216357, 0.20171235774708265, 0.19057435534968234, 0.1708688954315563, 0.14899897678653792, 0.13720300022770862, 0.12850487748585124, 0.11753369001026201, 0.11433112636060998, 0.12057178120801945, 0.10282738853504161, 0.08929582699985787, 0.12433314500468792, 0.08017670243314587, 0.08062718273832066]\n",
      "[0.5346578520077926, 0.49634360120846677, 0.5241671640139359, 0.43771596596791196, 0.47711492157899416, 0.529675291134761, 0.44406301700151884, 0.4204594859710106, 0.4477960444413699, 0.4053718986419531, 0.4796006221037645, 0.3917713027734023, 0.44345738566838777, 0.5926056137451758, 0.45863019273831296, 0.46321375782673174, 0.4996836426166388, 0.4993331294793349, 0.5602593078063085, 0.4830422126329862]\n",
      "[0.6912129, 0.8273515, 0.8818069, 0.8824257, 0.9232673, 0.9164604, 0.9300743, 0.93564355, 0.9486386, 0.9554455, 0.9616337, 0.9634901, 0.97091585, 0.9653465, 0.957302, 0.9721535, 0.9851485, 0.96039605, 0.9783416, 0.9832921]\n",
      "[0.76616913, 0.80845773, 0.8159204, 0.8308458, 0.81840795, 0.7910448, 0.83830845, 0.840796, 0.84577113, 0.82587063, 0.8432836, 0.8507463, 0.83830845, 0.78855723, 0.82835823, 0.840796, 0.840796, 0.8358209, 0.80845773, 0.82835823]\n"
     ]
    }
   ],
   "source": [
    "print(loss)\n",
    "print(val_loss)\n",
    "print(acc)\n",
    "print(val_acc)"
   ]
  },
  {
   "cell_type": "code",
   "execution_count": null,
   "metadata": {},
   "outputs": [],
   "source": []
  }
 ],
 "metadata": {
  "kernelspec": {
   "display_name": "Python 3",
   "language": "python",
   "name": "python3"
  },
  "language_info": {
   "codemirror_mode": {
    "name": "ipython",
    "version": 3
   },
   "file_extension": ".py",
   "mimetype": "text/x-python",
   "name": "python",
   "nbconvert_exporter": "python",
   "pygments_lexer": "ipython3",
   "version": "3.6.5"
  }
 },
 "nbformat": 4,
 "nbformat_minor": 2
}
