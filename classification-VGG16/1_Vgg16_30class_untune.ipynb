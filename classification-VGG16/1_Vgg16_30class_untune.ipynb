{
 "cells": [
  {
   "cell_type": "markdown",
   "metadata": {},
   "source": [
    "# Run VGG16 on 30 classes without tuning\n",
    "\n",
    "In this part, we loads all qualified data (30 classes) in VGG16 and only add an output layer. \n",
    "\n",
    "However, based on accuracy and loss curves, we can clearly see that there exists severe overfitting. To address overfiting, adding noises, regularization may help.  \n",
    "\n",
    "Obviously, we need to find out how we add layers can reduce overfitting as much as possible and maintain the accuracy at the same time. \n",
    "\n",
    "Therefore, we decide to use 3 classes which contains most paintings and 20 epochs for figuring out how we can train a better model. And then, we go back to 30 classes and compare the results with this untuning version."
   ]
  },
  {
   "cell_type": "code",
   "execution_count": 1,
   "metadata": {},
   "outputs": [],
   "source": [
    "import numpy as np\n",
    "import os\n",
    "from tensorflow.keras import applications\n",
    "from tensorflow.keras.preprocessing.image import ImageDataGenerator\n",
    "from tensorflow.keras import optimizers\n",
    "from tensorflow.keras.models import Sequential\n",
    "from tensorflow.keras.models import Model\n",
    "from tensorflow.keras.layers import Dropout, Flatten, Dense\n",
    "import matplotlib\n",
    "import matplotlib.pyplot as plt\n",
    "%matplotlib inline"
   ]
  },
  {
   "cell_type": "markdown",
   "metadata": {},
   "source": [
    "## Validation of using GPU"
   ]
  },
  {
   "cell_type": "code",
   "execution_count": 2,
   "metadata": {},
   "outputs": [
    {
     "name": "stdout",
     "output_type": "stream",
     "text": [
      "[name: \"/device:CPU:0\"\n",
      "device_type: \"CPU\"\n",
      "memory_limit: 268435456\n",
      "locality {\n",
      "}\n",
      "incarnation: 1655678584681517339\n",
      ", name: \"/device:GPU:0\"\n",
      "device_type: \"GPU\"\n",
      "memory_limit: 2264907776\n",
      "locality {\n",
      "  bus_id: 1\n",
      "  links {\n",
      "  }\n",
      "}\n",
      "incarnation: 15477623663351877341\n",
      "physical_device_desc: \"device: 0, name: GeForce GTX 970M, pci bus id: 0000:01:00.0, compute capability: 5.2\"\n",
      "]\n"
     ]
    }
   ],
   "source": [
    "from tensorflow.python.client import device_lib\n",
    "print(device_lib.list_local_devices())"
   ]
  },
  {
   "cell_type": "markdown",
   "metadata": {},
   "source": [
    "## Loading the pre-trained VGG16"
   ]
  },
  {
   "cell_type": "code",
   "execution_count": 3,
   "metadata": {},
   "outputs": [],
   "source": [
    "import tensorflow.keras.backend as K\n",
    "K.clear_session()"
   ]
  },
  {
   "cell_type": "code",
   "execution_count": 4,
   "metadata": {},
   "outputs": [
    {
     "name": "stdout",
     "output_type": "stream",
     "text": [
      "WARNING:tensorflow:From D:\\Anaconda\\envs\\tensorflow\\lib\\site-packages\\tensorflow\\python\\ops\\resource_variable_ops.py:435: colocate_with (from tensorflow.python.framework.ops) is deprecated and will be removed in a future version.\n",
      "Instructions for updating:\n",
      "Colocations handled automatically by placer.\n"
     ]
    }
   ],
   "source": [
    "nrow = 200\n",
    "ncol = 200\n",
    "base_model = applications.VGG16(weights='imagenet', input_shape=(nrow,ncol,3), include_top=False)\n",
    "model = Sequential()\n",
    "\n",
    "for layer in base_model.layers:\n",
    "    model.add(layer)\n",
    "for layer in model.layers:\n",
    "    layer.trainable = False"
   ]
  },
  {
   "cell_type": "markdown",
   "metadata": {},
   "source": [
    "Now, we only add a final fully-connected layer. Since this is a multiple classification, there should be 30 output and softmax activation."
   ]
  },
  {
   "cell_type": "code",
   "execution_count": 5,
   "metadata": {},
   "outputs": [
    {
     "name": "stdout",
     "output_type": "stream",
     "text": [
      "_________________________________________________________________\n",
      "Layer (type)                 Output Shape              Param #   \n",
      "=================================================================\n",
      "block1_conv1 (Conv2D)        (None, 200, 200, 64)      1792      \n",
      "_________________________________________________________________\n",
      "block1_conv2 (Conv2D)        (None, 200, 200, 64)      36928     \n",
      "_________________________________________________________________\n",
      "block1_pool (MaxPooling2D)   (None, 100, 100, 64)      0         \n",
      "_________________________________________________________________\n",
      "block2_conv1 (Conv2D)        (None, 100, 100, 128)     73856     \n",
      "_________________________________________________________________\n",
      "block2_conv2 (Conv2D)        (None, 100, 100, 128)     147584    \n",
      "_________________________________________________________________\n",
      "block2_pool (MaxPooling2D)   (None, 50, 50, 128)       0         \n",
      "_________________________________________________________________\n",
      "block3_conv1 (Conv2D)        (None, 50, 50, 256)       295168    \n",
      "_________________________________________________________________\n",
      "block3_conv2 (Conv2D)        (None, 50, 50, 256)       590080    \n",
      "_________________________________________________________________\n",
      "block3_conv3 (Conv2D)        (None, 50, 50, 256)       590080    \n",
      "_________________________________________________________________\n",
      "block3_pool (MaxPooling2D)   (None, 25, 25, 256)       0         \n",
      "_________________________________________________________________\n",
      "block4_conv1 (Conv2D)        (None, 25, 25, 512)       1180160   \n",
      "_________________________________________________________________\n",
      "block4_conv2 (Conv2D)        (None, 25, 25, 512)       2359808   \n",
      "_________________________________________________________________\n",
      "block4_conv3 (Conv2D)        (None, 25, 25, 512)       2359808   \n",
      "_________________________________________________________________\n",
      "block4_pool (MaxPooling2D)   (None, 12, 12, 512)       0         \n",
      "_________________________________________________________________\n",
      "block5_conv1 (Conv2D)        (None, 12, 12, 512)       2359808   \n",
      "_________________________________________________________________\n",
      "block5_conv2 (Conv2D)        (None, 12, 12, 512)       2359808   \n",
      "_________________________________________________________________\n",
      "block5_conv3 (Conv2D)        (None, 12, 12, 512)       2359808   \n",
      "_________________________________________________________________\n",
      "block5_pool (MaxPooling2D)   (None, 6, 6, 512)         0         \n",
      "_________________________________________________________________\n",
      "flatten (Flatten)            (None, 18432)             0         \n",
      "_________________________________________________________________\n",
      "dense (Dense)                (None, 30)                552990    \n",
      "=================================================================\n",
      "Total params: 15,267,678\n",
      "Trainable params: 552,990\n",
      "Non-trainable params: 14,714,688\n",
      "_________________________________________________________________\n"
     ]
    }
   ],
   "source": [
    "model.add(Flatten())\n",
    "model.add(Dense(30, activation = 'softmax'))\n",
    "model.summary()"
   ]
  },
  {
   "cell_type": "markdown",
   "metadata": {},
   "source": [
    "## Using Generators to Load Data"
   ]
  },
  {
   "cell_type": "code",
   "execution_count": 6,
   "metadata": {},
   "outputs": [
    {
     "name": "stdout",
     "output_type": "stream",
     "text": [
      "Found 5687 images belonging to 30 classes.\n"
     ]
    }
   ],
   "source": [
    "train_data_dir = './images_train'\n",
    "batch_size = 32\n",
    "train_datagen = ImageDataGenerator(rescale=1./255,\n",
    "                                   shear_range=0.2,\n",
    "                                   zoom_range=0.2,\n",
    "                                   horizontal_flip=True)\n",
    "train_generator = train_datagen.flow_from_directory(\n",
    "                        train_data_dir,\n",
    "                        target_size=(nrow,ncol),\n",
    "                        batch_size=batch_size,\n",
    "                        class_mode='categorical')"
   ]
  },
  {
   "cell_type": "code",
   "execution_count": 7,
   "metadata": {},
   "outputs": [
    {
     "name": "stdout",
     "output_type": "stream",
     "text": [
      "Found 1404 images belonging to 30 classes.\n"
     ]
    }
   ],
   "source": [
    "test_data_dir = './images_test'\n",
    "batch_size = 32\n",
    "test_datagen = ImageDataGenerator(rescale=1./255,\n",
    "                                   shear_range=0.2,\n",
    "                                   zoom_range=0.2,\n",
    "                                   horizontal_flip=True)\n",
    "test_generator = train_datagen.flow_from_directory(\n",
    "                        test_data_dir,\n",
    "                        target_size=(nrow,ncol),\n",
    "                        batch_size=batch_size,\n",
    "                        class_mode='categorical')"
   ]
  },
  {
   "cell_type": "markdown",
   "metadata": {},
   "source": [
    "## Train the model"
   ]
  },
  {
   "cell_type": "markdown",
   "metadata": {},
   "source": [
    "Compile the model. we are performing multiple classification, so we use 'categorical_crossentropy' loss function."
   ]
  },
  {
   "cell_type": "code",
   "execution_count": 8,
   "metadata": {},
   "outputs": [],
   "source": [
    "model.compile(loss='categorical_crossentropy', optimizer='adam', metrics=['accuracy'])\n",
    "steps_per_epoch = train_generator.n // batch_size\n",
    "validation_steps = test_generator.n // batch_size"
   ]
  },
  {
   "cell_type": "markdown",
   "metadata": {},
   "source": [
    "Now, we run the fit. Since we run 120 epochs, even with GPU, it will take hours (about 4 hours in our case)."
   ]
  },
  {
   "cell_type": "code",
   "execution_count": 9,
   "metadata": {},
   "outputs": [
    {
     "name": "stdout",
     "output_type": "stream",
     "text": [
      "WARNING:tensorflow:From D:\\Anaconda\\envs\\tensorflow\\lib\\site-packages\\tensorflow\\python\\ops\\math_ops.py:3066: to_int32 (from tensorflow.python.ops.math_ops) is deprecated and will be removed in a future version.\n",
      "Instructions for updating:\n",
      "Use tf.cast instead.\n",
      "Epoch 1/120\n",
      "44/44 [==============================] - 36s 822ms/step - loss: 1.8798 - acc: 0.4715\n",
      "178/178 [==============================] - 183s 1s/step - loss: 2.3449 - acc: 0.3726 - val_loss: 1.8798 - val_acc: 0.4715\n",
      "Epoch 2/120\n",
      "44/44 [==============================] - 29s 664ms/step - loss: 1.8880 - acc: 0.5121\n",
      "178/178 [==============================] - 133s 748ms/step - loss: 1.4229 - acc: 0.5936 - val_loss: 1.8880 - val_acc: 0.5121\n",
      "Epoch 3/120\n",
      "44/44 [==============================] - 30s 677ms/step - loss: 1.8866 - acc: 0.5214\n",
      "178/178 [==============================] - 143s 805ms/step - loss: 1.1424 - acc: 0.6673 - val_loss: 1.8866 - val_acc: 0.5214\n",
      "Epoch 4/120\n",
      "44/44 [==============================] - 30s 681ms/step - loss: 1.7108 - acc: 0.5506\n",
      "178/178 [==============================] - 138s 774ms/step - loss: 0.9086 - acc: 0.7318 - val_loss: 1.7108 - val_acc: 0.5506\n",
      "Epoch 5/120\n",
      "44/44 [==============================] - 28s 641ms/step - loss: 1.7942 - acc: 0.5413\n",
      "178/178 [==============================] - 142s 796ms/step - loss: 0.7493 - acc: 0.7747 - val_loss: 1.7942 - val_acc: 0.5413\n",
      "Epoch 6/120\n",
      "44/44 [==============================] - 28s 635ms/step - loss: 1.8282 - acc: 0.5292\n",
      "178/178 [==============================] - 131s 736ms/step - loss: 0.6505 - acc: 0.8038 - val_loss: 1.8282 - val_acc: 0.5292\n",
      "Epoch 7/120\n",
      "44/44 [==============================] - 29s 664ms/step - loss: 1.7016 - acc: 0.5563\n",
      "178/178 [==============================] - 135s 760ms/step - loss: 0.5617 - acc: 0.8340 - val_loss: 1.7016 - val_acc: 0.5563\n",
      "Epoch 8/120\n",
      "44/44 [==============================] - 30s 673ms/step - loss: 1.9204 - acc: 0.5228\n",
      "178/178 [==============================] - 135s 756ms/step - loss: 0.4980 - acc: 0.8447 - val_loss: 1.9204 - val_acc: 0.5228\n",
      "Epoch 9/120\n",
      "44/44 [==============================] - 31s 712ms/step - loss: 1.7282 - acc: 0.5812\n",
      "178/178 [==============================] - 139s 780ms/step - loss: 0.4331 - acc: 0.8688 - val_loss: 1.7282 - val_acc: 0.5812\n",
      "Epoch 10/120\n",
      "44/44 [==============================] - 32s 724ms/step - loss: 1.9043 - acc: 0.5520\n",
      "178/178 [==============================] - 138s 777ms/step - loss: 0.4073 - acc: 0.8773 - val_loss: 1.9043 - val_acc: 0.5520\n",
      "Epoch 11/120\n",
      "44/44 [==============================] - 29s 670ms/step - loss: 1.7504 - acc: 0.5869\n",
      "178/178 [==============================] - 137s 772ms/step - loss: 0.3402 - acc: 0.8952 - val_loss: 1.7504 - val_acc: 0.5869\n",
      "Epoch 12/120\n",
      "44/44 [==============================] - 32s 734ms/step - loss: 2.0468 - acc: 0.5392\n",
      "178/178 [==============================] - 140s 785ms/step - loss: 0.3230 - acc: 0.8999 - val_loss: 2.0468 - val_acc: 0.5392\n",
      "Epoch 13/120\n",
      "44/44 [==============================] - 29s 667ms/step - loss: 1.8680 - acc: 0.5848\n",
      "178/178 [==============================] - 136s 765ms/step - loss: 0.3172 - acc: 0.9026 - val_loss: 1.8680 - val_acc: 0.5848\n",
      "Epoch 14/120\n",
      "44/44 [==============================] - 28s 637ms/step - loss: 1.8719 - acc: 0.5734\n",
      "178/178 [==============================] - 134s 751ms/step - loss: 0.3078 - acc: 0.9035 - val_loss: 1.8719 - val_acc: 0.5734\n",
      "Epoch 15/120\n",
      "44/44 [==============================] - 32s 721ms/step - loss: 1.9695 - acc: 0.5563\n",
      "178/178 [==============================] - 141s 795ms/step - loss: 0.2423 - acc: 0.9267 - val_loss: 1.9695 - val_acc: 0.5563\n",
      "Epoch 16/120\n",
      "44/44 [==============================] - 28s 642ms/step - loss: 1.8692 - acc: 0.5712\n",
      "178/178 [==============================] - 138s 778ms/step - loss: 0.2245 - acc: 0.9374 - val_loss: 1.8692 - val_acc: 0.5712\n",
      "Epoch 17/120\n",
      "44/44 [==============================] - 29s 652ms/step - loss: 1.9965 - acc: 0.5591\n",
      "178/178 [==============================] - 134s 752ms/step - loss: 0.2230 - acc: 0.9320 - val_loss: 1.9965 - val_acc: 0.5591\n",
      "Epoch 18/120\n",
      "44/44 [==============================] - 29s 653ms/step - loss: 2.0064 - acc: 0.5734\n",
      "178/178 [==============================] - 134s 754ms/step - loss: 0.2379 - acc: 0.9269 - val_loss: 2.0064 - val_acc: 0.5734\n",
      "Epoch 19/120\n",
      "44/44 [==============================] - 28s 640ms/step - loss: 2.0148 - acc: 0.5662\n",
      "178/178 [==============================] - 135s 761ms/step - loss: 0.2258 - acc: 0.9298 - val_loss: 2.0148 - val_acc: 0.5662\n",
      "Epoch 20/120\n",
      "44/44 [==============================] - 28s 640ms/step - loss: 2.1018 - acc: 0.5556\n",
      "178/178 [==============================] - 135s 756ms/step - loss: 0.1896 - acc: 0.9429 - val_loss: 2.1018 - val_acc: 0.5556\n",
      "Epoch 21/120\n",
      "44/44 [==============================] - 28s 644ms/step - loss: 2.2730 - acc: 0.5221\n",
      "178/178 [==============================] - 134s 752ms/step - loss: 0.1887 - acc: 0.9444 - val_loss: 2.2730 - val_acc: 0.5221\n",
      "Epoch 22/120\n",
      "44/44 [==============================] - 29s 661ms/step - loss: 2.0611 - acc: 0.5748\n",
      "178/178 [==============================] - 134s 753ms/step - loss: 0.1825 - acc: 0.9420 - val_loss: 2.0611 - val_acc: 0.5748\n",
      "Epoch 23/120\n",
      "44/44 [==============================] - 28s 646ms/step - loss: 2.2240 - acc: 0.5491\n",
      "178/178 [==============================] - 134s 755ms/step - loss: 0.1529 - acc: 0.9538 - val_loss: 2.2240 - val_acc: 0.5491\n",
      "Epoch 24/120\n",
      "44/44 [==============================] - 29s 663ms/step - loss: 2.2919 - acc: 0.5520\n",
      "178/178 [==============================] - 135s 757ms/step - loss: 0.1926 - acc: 0.9381 - val_loss: 2.2919 - val_acc: 0.5520\n",
      "Epoch 25/120\n",
      "44/44 [==============================] - 28s 646ms/step - loss: 2.1361 - acc: 0.5655\n",
      "178/178 [==============================] - 138s 775ms/step - loss: 0.1985 - acc: 0.9341 - val_loss: 2.1361 - val_acc: 0.5655\n",
      "Epoch 26/120\n",
      "44/44 [==============================] - 29s 651ms/step - loss: 2.1858 - acc: 0.5719\n",
      "178/178 [==============================] - 134s 754ms/step - loss: 0.1573 - acc: 0.9527 - val_loss: 2.1858 - val_acc: 0.5719\n",
      "Epoch 27/120\n",
      "44/44 [==============================] - 28s 637ms/step - loss: 2.2514 - acc: 0.5741\n",
      "178/178 [==============================] - 134s 752ms/step - loss: 0.1572 - acc: 0.9488 - val_loss: 2.2514 - val_acc: 0.5741\n",
      "Epoch 28/120\n",
      "44/44 [==============================] - 28s 643ms/step - loss: 2.2631 - acc: 0.5783\n",
      "178/178 [==============================] - 136s 763ms/step - loss: 0.1405 - acc: 0.9555 - val_loss: 2.2631 - val_acc: 0.5783\n",
      "Epoch 29/120\n",
      "44/44 [==============================] - 29s 648ms/step - loss: 2.3427 - acc: 0.5584\n",
      "178/178 [==============================] - 133s 749ms/step - loss: 0.1355 - acc: 0.9582 - val_loss: 2.3427 - val_acc: 0.5584\n",
      "Epoch 30/120\n",
      "44/44 [==============================] - 28s 644ms/step - loss: 2.5486 - acc: 0.5534\n",
      "178/178 [==============================] - 132s 741ms/step - loss: 0.1347 - acc: 0.9557 - val_loss: 2.5486 - val_acc: 0.5534\n",
      "Epoch 31/120\n",
      "44/44 [==============================] - 29s 651ms/step - loss: 2.3441 - acc: 0.5762\n",
      "178/178 [==============================] - 134s 755ms/step - loss: 0.1689 - acc: 0.9432 - val_loss: 2.3441 - val_acc: 0.5762\n",
      "Epoch 32/120\n",
      "44/44 [==============================] - 28s 638ms/step - loss: 2.6049 - acc: 0.5449\n",
      "178/178 [==============================] - 133s 746ms/step - loss: 0.1351 - acc: 0.9555 - val_loss: 2.6049 - val_acc: 0.5449\n",
      "Epoch 33/120\n",
      "44/44 [==============================] - 29s 654ms/step - loss: 2.4827 - acc: 0.5648\n",
      "178/178 [==============================] - 134s 752ms/step - loss: 0.1202 - acc: 0.9611 - val_loss: 2.4827 - val_acc: 0.5648\n",
      "Epoch 34/120\n",
      "44/44 [==============================] - 28s 638ms/step - loss: 2.5614 - acc: 0.5427\n",
      "178/178 [==============================] - 134s 753ms/step - loss: 0.1265 - acc: 0.9610 - val_loss: 2.5614 - val_acc: 0.5427\n",
      "Epoch 35/120\n",
      "44/44 [==============================] - 29s 650ms/step - loss: 2.2918 - acc: 0.5705\n",
      "178/178 [==============================] - 135s 757ms/step - loss: 0.1314 - acc: 0.9601 - val_loss: 2.2918 - val_acc: 0.5705\n",
      "Epoch 36/120\n",
      "44/44 [==============================] - 28s 640ms/step - loss: 2.4883 - acc: 0.5812\n",
      "178/178 [==============================] - 134s 751ms/step - loss: 0.1068 - acc: 0.9659 - val_loss: 2.4883 - val_acc: 0.5812\n"
     ]
    },
    {
     "name": "stdout",
     "output_type": "stream",
     "text": [
      "Epoch 37/120\n",
      "44/44 [==============================] - 29s 658ms/step - loss: 2.7692 - acc: 0.5499\n",
      "178/178 [==============================] - 134s 752ms/step - loss: 0.1080 - acc: 0.9650 - val_loss: 2.7692 - val_acc: 0.5499\n",
      "Epoch 38/120\n",
      "44/44 [==============================] - 29s 649ms/step - loss: 2.5213 - acc: 0.5591\n",
      "178/178 [==============================] - 134s 751ms/step - loss: 0.1392 - acc: 0.9539 - val_loss: 2.5213 - val_acc: 0.5591\n",
      "Epoch 39/120\n",
      "44/44 [==============================] - 28s 644ms/step - loss: 2.5499 - acc: 0.5748\n",
      "178/178 [==============================] - 135s 757ms/step - loss: 0.1125 - acc: 0.9636 - val_loss: 2.5499 - val_acc: 0.5748\n",
      "Epoch 40/120\n",
      "44/44 [==============================] - 29s 656ms/step - loss: 2.5561 - acc: 0.5755\n",
      "178/178 [==============================] - 134s 755ms/step - loss: 0.0999 - acc: 0.9678 - val_loss: 2.5561 - val_acc: 0.5755\n",
      "Epoch 41/120\n",
      "44/44 [==============================] - 28s 646ms/step - loss: 2.5881 - acc: 0.5805\n",
      "178/178 [==============================] - 132s 742ms/step - loss: 0.0917 - acc: 0.9696 - val_loss: 2.5881 - val_acc: 0.5805\n",
      "Epoch 42/120\n",
      "44/44 [==============================] - 30s 675ms/step - loss: 2.8387 - acc: 0.5392\n",
      "178/178 [==============================] - 136s 767ms/step - loss: 0.1220 - acc: 0.9624 - val_loss: 2.8387 - val_acc: 0.5392\n",
      "Epoch 43/120\n",
      "44/44 [==============================] - 29s 656ms/step - loss: 2.6008 - acc: 0.5698\n",
      "178/178 [==============================] - 134s 755ms/step - loss: 0.1201 - acc: 0.9611 - val_loss: 2.6008 - val_acc: 0.5698\n",
      "Epoch 44/120\n",
      "44/44 [==============================] - 28s 643ms/step - loss: 2.8843 - acc: 0.5321\n",
      "178/178 [==============================] - 135s 756ms/step - loss: 0.1203 - acc: 0.9597 - val_loss: 2.8843 - val_acc: 0.5321\n",
      "Epoch 45/120\n",
      "44/44 [==============================] - 28s 644ms/step - loss: 2.6005 - acc: 0.5726\n",
      "178/178 [==============================] - 134s 754ms/step - loss: 0.1025 - acc: 0.9701 - val_loss: 2.6005 - val_acc: 0.5726\n",
      "Epoch 46/120\n",
      "44/44 [==============================] - 28s 644ms/step - loss: 2.7178 - acc: 0.5634\n",
      "178/178 [==============================] - 134s 750ms/step - loss: 0.0713 - acc: 0.9770 - val_loss: 2.7178 - val_acc: 0.5634\n",
      "Epoch 47/120\n",
      "44/44 [==============================] - 28s 645ms/step - loss: 2.9621 - acc: 0.5427\n",
      "178/178 [==============================] - 133s 747ms/step - loss: 0.1133 - acc: 0.9601 - val_loss: 2.9621 - val_acc: 0.5427\n",
      "Epoch 48/120\n",
      "44/44 [==============================] - 29s 651ms/step - loss: 2.9323 - acc: 0.5591\n",
      "178/178 [==============================] - 134s 754ms/step - loss: 0.1454 - acc: 0.9523 - val_loss: 2.9323 - val_acc: 0.5591\n",
      "Epoch 49/120\n",
      "44/44 [==============================] - 29s 663ms/step - loss: 2.5487 - acc: 0.5791\n",
      "178/178 [==============================] - 134s 753ms/step - loss: 0.0826 - acc: 0.9729 - val_loss: 2.5487 - val_acc: 0.5791\n",
      "Epoch 50/120\n",
      "44/44 [==============================] - 28s 647ms/step - loss: 2.6315 - acc: 0.5776\n",
      "178/178 [==============================] - 134s 753ms/step - loss: 0.0781 - acc: 0.9759 - val_loss: 2.6315 - val_acc: 0.5776\n",
      "Epoch 51/120\n",
      "44/44 [==============================] - 29s 668ms/step - loss: 2.9865 - acc: 0.5613\n",
      "178/178 [==============================] - 136s 765ms/step - loss: 0.0835 - acc: 0.9747 - val_loss: 2.9865 - val_acc: 0.5613\n",
      "Epoch 52/120\n",
      "44/44 [==============================] - 29s 651ms/step - loss: 2.6666 - acc: 0.5741\n",
      "178/178 [==============================] - 134s 752ms/step - loss: 0.0806 - acc: 0.9734 - val_loss: 2.6666 - val_acc: 0.5741\n",
      "Epoch 53/120\n",
      "44/44 [==============================] - 28s 639ms/step - loss: 2.9201 - acc: 0.5684\n",
      "178/178 [==============================] - 134s 752ms/step - loss: 0.0786 - acc: 0.9722 - val_loss: 2.9201 - val_acc: 0.5684\n",
      "Epoch 54/120\n",
      "44/44 [==============================] - 29s 654ms/step - loss: 2.8213 - acc: 0.5741\n",
      "178/178 [==============================] - 135s 756ms/step - loss: 0.1099 - acc: 0.9655 - val_loss: 2.8213 - val_acc: 0.5741\n",
      "Epoch 55/120\n",
      "44/44 [==============================] - 29s 650ms/step - loss: 2.6479 - acc: 0.5798\n",
      "178/178 [==============================] - 133s 747ms/step - loss: 0.0926 - acc: 0.9701 - val_loss: 2.6479 - val_acc: 0.5798\n",
      "Epoch 56/120\n",
      "44/44 [==============================] - 29s 661ms/step - loss: 2.7110 - acc: 0.5769\n",
      "178/178 [==============================] - 135s 756ms/step - loss: 0.0915 - acc: 0.9713 - val_loss: 2.7110 - val_acc: 0.5769\n",
      "Epoch 57/120\n",
      "44/44 [==============================] - 28s 646ms/step - loss: 2.8821 - acc: 0.5719\n",
      "178/178 [==============================] - 134s 753ms/step - loss: 0.0775 - acc: 0.9727 - val_loss: 2.8821 - val_acc: 0.5719\n",
      "Epoch 58/120\n",
      "44/44 [==============================] - 28s 644ms/step - loss: 2.7163 - acc: 0.5741\n",
      "178/178 [==============================] - 135s 756ms/step - loss: 0.1129 - acc: 0.9647 - val_loss: 2.7163 - val_acc: 0.5741\n",
      "Epoch 59/120\n",
      "44/44 [==============================] - 28s 646ms/step - loss: 3.0882 - acc: 0.5598\n",
      "178/178 [==============================] - 134s 754ms/step - loss: 0.0836 - acc: 0.9727 - val_loss: 3.0882 - val_acc: 0.5598\n",
      "Epoch 60/120\n",
      "44/44 [==============================] - 28s 644ms/step - loss: 2.7359 - acc: 0.5840\n",
      "178/178 [==============================] - 133s 747ms/step - loss: 0.0730 - acc: 0.9768 - val_loss: 2.7359 - val_acc: 0.5840\n",
      "Epoch 61/120\n",
      "44/44 [==============================] - 28s 647ms/step - loss: 3.1073 - acc: 0.5598\n",
      "178/178 [==============================] - 134s 755ms/step - loss: 0.1049 - acc: 0.9659 - val_loss: 3.1073 - val_acc: 0.5598\n",
      "Epoch 62/120\n",
      "44/44 [==============================] - 29s 649ms/step - loss: 2.9527 - acc: 0.5548\n",
      "178/178 [==============================] - 134s 755ms/step - loss: 0.1012 - acc: 0.9661 - val_loss: 2.9527 - val_acc: 0.5548\n",
      "Epoch 63/120\n",
      "44/44 [==============================] - 30s 682ms/step - loss: 3.0017 - acc: 0.5719\n",
      "178/178 [==============================] - 135s 758ms/step - loss: 0.0903 - acc: 0.9713 - val_loss: 3.0017 - val_acc: 0.5719\n",
      "Epoch 64/120\n",
      "44/44 [==============================] - 28s 646ms/step - loss: 3.2238 - acc: 0.5534\n",
      "178/178 [==============================] - 135s 760ms/step - loss: 0.0849 - acc: 0.9717 - val_loss: 3.2238 - val_acc: 0.5534\n",
      "Epoch 65/120\n",
      "44/44 [==============================] - 28s 646ms/step - loss: 3.0100 - acc: 0.5641\n",
      "178/178 [==============================] - 135s 760ms/step - loss: 0.0871 - acc: 0.9680 - val_loss: 3.0100 - val_acc: 0.5641\n",
      "Epoch 66/120\n",
      "44/44 [==============================] - 28s 634ms/step - loss: 3.4242 - acc: 0.5506\n",
      "178/178 [==============================] - 133s 749ms/step - loss: 0.0811 - acc: 0.9754 - val_loss: 3.4242 - val_acc: 0.5506\n",
      "Epoch 67/120\n",
      "44/44 [==============================] - 28s 638ms/step - loss: 3.0948 - acc: 0.5719\n",
      "178/178 [==============================] - 133s 746ms/step - loss: 0.0571 - acc: 0.9812 - val_loss: 3.0948 - val_acc: 0.5719\n",
      "Epoch 68/120\n",
      "44/44 [==============================] - 28s 644ms/step - loss: 3.0625 - acc: 0.5670\n",
      "178/178 [==============================] - 133s 750ms/step - loss: 0.0677 - acc: 0.9784 - val_loss: 3.0625 - val_acc: 0.5670\n",
      "Epoch 69/120\n",
      "44/44 [==============================] - 29s 664ms/step - loss: 3.2399 - acc: 0.5591\n",
      "178/178 [==============================] - 136s 763ms/step - loss: 0.0739 - acc: 0.9771 - val_loss: 3.2399 - val_acc: 0.5591\n",
      "Epoch 70/120\n",
      "44/44 [==============================] - 29s 650ms/step - loss: 2.9683 - acc: 0.5705\n",
      "178/178 [==============================] - 134s 755ms/step - loss: 0.0906 - acc: 0.9692 - val_loss: 2.9683 - val_acc: 0.5705\n",
      "Epoch 71/120\n",
      "44/44 [==============================] - 28s 642ms/step - loss: 3.1588 - acc: 0.5776\n",
      "178/178 [==============================] - 133s 746ms/step - loss: 0.0635 - acc: 0.9796 - val_loss: 3.1588 - val_acc: 0.5776\n",
      "Epoch 72/120\n",
      "44/44 [==============================] - 28s 644ms/step - loss: 3.2433 - acc: 0.5605\n",
      "178/178 [==============================] - 135s 756ms/step - loss: 0.0441 - acc: 0.9865 - val_loss: 3.2433 - val_acc: 0.5605\n",
      "Epoch 73/120\n",
      "44/44 [==============================] - 28s 637ms/step - loss: 3.2186 - acc: 0.5613\n",
      "178/178 [==============================] - 133s 749ms/step - loss: 0.0491 - acc: 0.9858 - val_loss: 3.2186 - val_acc: 0.5613\n"
     ]
    },
    {
     "name": "stdout",
     "output_type": "stream",
     "text": [
      "Epoch 74/120\n",
      "44/44 [==============================] - 28s 641ms/step - loss: 3.4047 - acc: 0.5641\n",
      "178/178 [==============================] - 134s 751ms/step - loss: 0.0924 - acc: 0.9696 - val_loss: 3.4047 - val_acc: 0.5641\n",
      "Epoch 75/120\n",
      "44/44 [==============================] - 28s 647ms/step - loss: 3.2372 - acc: 0.5648\n",
      "178/178 [==============================] - 134s 750ms/step - loss: 0.0840 - acc: 0.9719 - val_loss: 3.2372 - val_acc: 0.5648\n",
      "Epoch 76/120\n",
      "44/44 [==============================] - 29s 653ms/step - loss: 3.2428 - acc: 0.5705\n",
      "178/178 [==============================] - 134s 754ms/step - loss: 0.0384 - acc: 0.9884 - val_loss: 3.2428 - val_acc: 0.5705\n",
      "Epoch 77/120\n",
      "44/44 [==============================] - 28s 638ms/step - loss: 3.0215 - acc: 0.5655\n",
      "178/178 [==============================] - 134s 754ms/step - loss: 0.0591 - acc: 0.9807 - val_loss: 3.0215 - val_acc: 0.5655\n",
      "Epoch 78/120\n",
      "44/44 [==============================] - 29s 655ms/step - loss: 3.1485 - acc: 0.5677\n",
      "178/178 [==============================] - 135s 758ms/step - loss: 0.0511 - acc: 0.9845 - val_loss: 3.1485 - val_acc: 0.5677\n",
      "Epoch 79/120\n",
      "44/44 [==============================] - 29s 658ms/step - loss: 3.3217 - acc: 0.5577\n",
      "178/178 [==============================] - 133s 747ms/step - loss: 0.0604 - acc: 0.9807 - val_loss: 3.3217 - val_acc: 0.5577\n",
      "Epoch 80/120\n",
      "44/44 [==============================] - 28s 643ms/step - loss: 3.2022 - acc: 0.5584\n",
      "178/178 [==============================] - 135s 757ms/step - loss: 0.0989 - acc: 0.9694 - val_loss: 3.2022 - val_acc: 0.5584\n",
      "Epoch 81/120\n",
      "44/44 [==============================] - 29s 649ms/step - loss: 3.1845 - acc: 0.5769\n",
      "178/178 [==============================] - 135s 757ms/step - loss: 0.0686 - acc: 0.9757 - val_loss: 3.1845 - val_acc: 0.5769\n",
      "Epoch 82/120\n",
      "44/44 [==============================] - 28s 641ms/step - loss: 3.3051 - acc: 0.5499\n",
      "178/178 [==============================] - 133s 748ms/step - loss: 0.0600 - acc: 0.9810 - val_loss: 3.3051 - val_acc: 0.5499\n",
      "Epoch 83/120\n",
      "44/44 [==============================] - 28s 646ms/step - loss: 3.0716 - acc: 0.5769\n",
      "178/178 [==============================] - 134s 751ms/step - loss: 0.0749 - acc: 0.9759 - val_loss: 3.0716 - val_acc: 0.5769\n",
      "Epoch 84/120\n",
      "44/44 [==============================] - 30s 680ms/step - loss: 3.7182 - acc: 0.5306\n",
      "178/178 [==============================] - 137s 768ms/step - loss: 0.1002 - acc: 0.9763 - val_loss: 3.7182 - val_acc: 0.5306\n",
      "Epoch 85/120\n",
      "44/44 [==============================] - 28s 647ms/step - loss: 3.2697 - acc: 0.5677\n",
      "178/178 [==============================] - 135s 760ms/step - loss: 0.0812 - acc: 0.9747 - val_loss: 3.2697 - val_acc: 0.5677\n",
      "Epoch 86/120\n",
      "44/44 [==============================] - 28s 637ms/step - loss: 3.1890 - acc: 0.5805\n",
      "178/178 [==============================] - 133s 748ms/step - loss: 0.0596 - acc: 0.9800 - val_loss: 3.1890 - val_acc: 0.5805\n",
      "Epoch 87/120\n",
      "44/44 [==============================] - 29s 655ms/step - loss: 3.5838 - acc: 0.5563\n",
      "178/178 [==============================] - 134s 753ms/step - loss: 0.0609 - acc: 0.9796 - val_loss: 3.5838 - val_acc: 0.5563\n",
      "Epoch 88/120\n",
      "44/44 [==============================] - 29s 648ms/step - loss: 3.2826 - acc: 0.5726\n",
      "178/178 [==============================] - 134s 751ms/step - loss: 0.0649 - acc: 0.9789 - val_loss: 3.2826 - val_acc: 0.5726\n",
      "Epoch 89/120\n",
      "44/44 [==============================] - 28s 638ms/step - loss: 3.5070 - acc: 0.5491\n",
      "178/178 [==============================] - 133s 746ms/step - loss: 0.0493 - acc: 0.9836 - val_loss: 3.5070 - val_acc: 0.5491\n",
      "Epoch 90/120\n",
      "44/44 [==============================] - 28s 638ms/step - loss: 3.2831 - acc: 0.5662\n",
      "178/178 [==============================] - 134s 750ms/step - loss: 0.0673 - acc: 0.9794 - val_loss: 3.2831 - val_acc: 0.5662\n",
      "Epoch 91/120\n",
      "44/44 [==============================] - 28s 639ms/step - loss: 3.3833 - acc: 0.5634\n",
      "178/178 [==============================] - 135s 757ms/step - loss: 0.0626 - acc: 0.9782 - val_loss: 3.3833 - val_acc: 0.5634\n",
      "Epoch 92/120\n",
      "44/44 [==============================] - 27s 624ms/step - loss: 3.5591 - acc: 0.5449\n",
      "178/178 [==============================] - 133s 746ms/step - loss: 0.0829 - acc: 0.9745 - val_loss: 3.5591 - val_acc: 0.5449\n",
      "Epoch 93/120\n",
      "44/44 [==============================] - 28s 630ms/step - loss: 3.4774 - acc: 0.5634\n",
      "178/178 [==============================] - 131s 734ms/step - loss: 0.0685 - acc: 0.9791 - val_loss: 3.4774 - val_acc: 0.5634\n",
      "Epoch 94/120\n",
      "44/44 [==============================] - 32s 727ms/step - loss: 3.6410 - acc: 0.5527\n",
      "178/178 [==============================] - 135s 756ms/step - loss: 0.0765 - acc: 0.9757 - val_loss: 3.6410 - val_acc: 0.5527\n",
      "Epoch 95/120\n",
      "44/44 [==============================] - 28s 645ms/step - loss: 3.3054 - acc: 0.5748\n",
      "178/178 [==============================] - 145s 815ms/step - loss: 0.0504 - acc: 0.9842 - val_loss: 3.3054 - val_acc: 0.5748\n",
      "Epoch 96/120\n",
      "44/44 [==============================] - 28s 636ms/step - loss: 3.1911 - acc: 0.5805\n",
      "178/178 [==============================] - 133s 745ms/step - loss: 0.0462 - acc: 0.9849 - val_loss: 3.1911 - val_acc: 0.5805\n",
      "Epoch 97/120\n",
      "44/44 [==============================] - 28s 637ms/step - loss: 4.1143 - acc: 0.5085\n",
      "178/178 [==============================] - 132s 739ms/step - loss: 0.0563 - acc: 0.9814 - val_loss: 4.1143 - val_acc: 0.5085\n",
      "Epoch 98/120\n",
      "44/44 [==============================] - 28s 643ms/step - loss: 3.3127 - acc: 0.5712\n",
      "178/178 [==============================] - 132s 739ms/step - loss: 0.0725 - acc: 0.9780 - val_loss: 3.3127 - val_acc: 0.5712\n",
      "Epoch 99/120\n",
      "44/44 [==============================] - 28s 631ms/step - loss: 3.2632 - acc: 0.5826\n",
      "178/178 [==============================] - 132s 739ms/step - loss: 0.0396 - acc: 0.9879 - val_loss: 3.2632 - val_acc: 0.5826\n",
      "Epoch 100/120\n",
      "44/44 [==============================] - 28s 638ms/step - loss: 3.3134 - acc: 0.5776\n",
      "178/178 [==============================] - 132s 741ms/step - loss: 0.0453 - acc: 0.9854 - val_loss: 3.3134 - val_acc: 0.5776\n",
      "Epoch 101/120\n",
      "44/44 [==============================] - 28s 642ms/step - loss: 3.2937 - acc: 0.5684\n",
      "178/178 [==============================] - 132s 741ms/step - loss: 0.0661 - acc: 0.9789 - val_loss: 3.2937 - val_acc: 0.5684\n",
      "Epoch 102/120\n",
      "44/44 [==============================] - 28s 636ms/step - loss: 3.4643 - acc: 0.5634\n",
      "178/178 [==============================] - 132s 740ms/step - loss: 0.0629 - acc: 0.9796 - val_loss: 3.4643 - val_acc: 0.5634\n",
      "Epoch 103/120\n",
      "44/44 [==============================] - 28s 632ms/step - loss: 3.3223 - acc: 0.5826\n",
      "178/178 [==============================] - 132s 741ms/step - loss: 0.0404 - acc: 0.9873 - val_loss: 3.3223 - val_acc: 0.5826\n",
      "Epoch 104/120\n",
      "44/44 [==============================] - 28s 632ms/step - loss: 3.4792 - acc: 0.5712\n",
      "178/178 [==============================] - 131s 738ms/step - loss: 0.0500 - acc: 0.9835 - val_loss: 3.4792 - val_acc: 0.5712\n",
      "Epoch 105/120\n",
      "44/44 [==============================] - 28s 633ms/step - loss: 3.4696 - acc: 0.5791\n",
      "178/178 [==============================] - 131s 733ms/step - loss: 0.0800 - acc: 0.9754 - val_loss: 3.4696 - val_acc: 0.5791\n",
      "Epoch 106/120\n",
      "44/44 [==============================] - 29s 653ms/step - loss: 3.6675 - acc: 0.5570\n",
      "178/178 [==============================] - 133s 745ms/step - loss: 0.0602 - acc: 0.9812 - val_loss: 3.6675 - val_acc: 0.5570\n",
      "Epoch 107/120\n",
      "44/44 [==============================] - 28s 633ms/step - loss: 3.4244 - acc: 0.5655\n",
      "178/178 [==============================] - 132s 743ms/step - loss: 0.0670 - acc: 0.9782 - val_loss: 3.4244 - val_acc: 0.5655\n",
      "Epoch 108/120\n",
      "44/44 [==============================] - 28s 625ms/step - loss: 3.5351 - acc: 0.5776\n",
      "178/178 [==============================] - 131s 734ms/step - loss: 0.0286 - acc: 0.9917 - val_loss: 3.5351 - val_acc: 0.5776\n",
      "Epoch 109/120\n",
      "44/44 [==============================] - 28s 631ms/step - loss: 3.6763 - acc: 0.5506\n",
      "178/178 [==============================] - 131s 736ms/step - loss: 0.0584 - acc: 0.9829 - val_loss: 3.6763 - val_acc: 0.5506\n",
      "Epoch 110/120\n",
      "44/44 [==============================] - 28s 630ms/step - loss: 3.3268 - acc: 0.5769\n",
      "178/178 [==============================] - 130s 733ms/step - loss: 0.0760 - acc: 0.9757 - val_loss: 3.3268 - val_acc: 0.5769\n"
     ]
    },
    {
     "name": "stdout",
     "output_type": "stream",
     "text": [
      "Epoch 111/120\n",
      "44/44 [==============================] - 28s 630ms/step - loss: 3.5333 - acc: 0.5698\n",
      "178/178 [==============================] - 131s 737ms/step - loss: 0.0467 - acc: 0.9836 - val_loss: 3.5333 - val_acc: 0.5698\n",
      "Epoch 112/120\n",
      "44/44 [==============================] - 28s 641ms/step - loss: 3.5777 - acc: 0.5677\n",
      "178/178 [==============================] - 132s 739ms/step - loss: 0.0845 - acc: 0.9736 - val_loss: 3.5777 - val_acc: 0.5677\n",
      "Epoch 113/120\n",
      "44/44 [==============================] - 28s 644ms/step - loss: 3.5388 - acc: 0.5712\n",
      "178/178 [==============================] - 134s 753ms/step - loss: 0.0711 - acc: 0.9763 - val_loss: 3.5388 - val_acc: 0.5712\n",
      "Epoch 114/120\n",
      "44/44 [==============================] - 29s 649ms/step - loss: 3.5543 - acc: 0.5548\n",
      "178/178 [==============================] - 133s 748ms/step - loss: 0.0475 - acc: 0.9835 - val_loss: 3.5543 - val_acc: 0.5548\n",
      "Epoch 115/120\n",
      "44/44 [==============================] - 28s 639ms/step - loss: 3.4110 - acc: 0.5641\n",
      "178/178 [==============================] - 133s 744ms/step - loss: 0.0415 - acc: 0.9861 - val_loss: 3.4110 - val_acc: 0.5641\n",
      "Epoch 116/120\n",
      "44/44 [==============================] - 29s 652ms/step - loss: 3.5744 - acc: 0.5734\n",
      "178/178 [==============================] - 134s 751ms/step - loss: 0.0537 - acc: 0.9851 - val_loss: 3.5744 - val_acc: 0.5734\n",
      "Epoch 117/120\n",
      "44/44 [==============================] - 30s 673ms/step - loss: 3.7528 - acc: 0.5513\n",
      "178/178 [==============================] - 136s 762ms/step - loss: 0.0475 - acc: 0.9858 - val_loss: 3.7528 - val_acc: 0.5513\n",
      "Epoch 118/120\n",
      "44/44 [==============================] - 28s 641ms/step - loss: 3.3614 - acc: 0.5862\n",
      "178/178 [==============================] - 134s 753ms/step - loss: 0.0390 - acc: 0.9866 - val_loss: 3.3614 - val_acc: 0.5862\n",
      "Epoch 119/120\n",
      "44/44 [==============================] - 28s 647ms/step - loss: 3.8780 - acc: 0.5548\n",
      "178/178 [==============================] - 136s 762ms/step - loss: 0.0498 - acc: 0.9847 - val_loss: 3.8780 - val_acc: 0.5548\n",
      "Epoch 120/120\n",
      "44/44 [==============================] - 29s 649ms/step - loss: 3.5141 - acc: 0.5705\n",
      "178/178 [==============================] - 133s 748ms/step - loss: 0.0500 - acc: 0.9833 - val_loss: 3.5141 - val_acc: 0.5705\n"
     ]
    }
   ],
   "source": [
    "nepochs = 120  # Number of epochs\n",
    "\n",
    "# Call the fit_generator function\n",
    "hist = model.fit_generator(\n",
    "    train_generator,\n",
    "    epochs=nepochs,\n",
    "    steps_per_epoch=steps_per_epoch,\n",
    "    validation_data=test_generator,\n",
    "    validation_steps=validation_steps)"
   ]
  },
  {
   "cell_type": "markdown",
   "metadata": {},
   "source": [
    "## Plot the accuracy curve"
   ]
  },
  {
   "cell_type": "code",
   "execution_count": 10,
   "metadata": {},
   "outputs": [
    {
     "data": {
      "text/plain": [
       "<matplotlib.legend.Legend at 0x2d9317ccb00>"
      ]
     },
     "execution_count": 10,
     "metadata": {},
     "output_type": "execute_result"
    },
    {
     "data": {
      "image/png": "[encoded data removed]",
      "text/plain": [
       "<Figure size 432x288 with 1 Axes>"
      ]
     },
     "metadata": {
      "needs_background": "light"
     },
     "output_type": "display_data"
    }
   ],
   "source": [
    "hist_his = hist.history\n",
    "acc = hist_his['acc']\n",
    "val_acc = hist_his['val_acc']\n",
    "plt.plot(acc)\n",
    "plt.plot(val_acc)\n",
    "plt.grid()\n",
    "plt.xlabel('Epoch')\n",
    "plt.ylabel('Accuracy')\n",
    "plt.legend(['acc','val_acc'], loc = 4)"
   ]
  },
  {
   "cell_type": "markdown",
   "metadata": {},
   "source": [
    "## Plot the loss curve"
   ]
  },
  {
   "cell_type": "code",
   "execution_count": 11,
   "metadata": {},
   "outputs": [
    {
     "data": {
      "text/plain": [
       "<matplotlib.legend.Legend at 0x2d916831358>"
      ]
     },
     "execution_count": 11,
     "metadata": {},
     "output_type": "execute_result"
    },
    {
     "data": {
      "image/png": "[encoded data removed]",
      "text/plain": [
       "<Figure size 432x288 with 1 Axes>"
      ]
     },
     "metadata": {
      "needs_background": "light"
     },
     "output_type": "display_data"
    }
   ],
   "source": [
    "loss = hist_his['loss']\n",
    "val_loss = hist_his['val_loss']\n",
    "plt.plot(loss)\n",
    "plt.plot(val_loss)\n",
    "plt.grid()\n",
    "plt.xlabel('Epoch')\n",
    "plt.ylabel('Loss')\n",
    "plt.legend(['loss','val_loss'], loc = 1)"
   ]
  },
  {
   "cell_type": "code",
   "execution_count": 12,
   "metadata": {},
   "outputs": [
    {
     "name": "stdout",
     "output_type": "stream",
     "text": [
      "[2.3461001035050724, 1.4235979016874845, 1.1430863561457525, 0.9086284632525168, 0.7497734822894895, 0.6507400545521362, 0.5618185450956527, 0.497515937167688, 0.4333582236034413, 0.4072008218772805, 0.3403918516956609, 0.32332254938371197, 0.3169648504349434, 0.30803932771492826, 0.24235950610026422, 0.22409920513116352, 0.22299199451120705, 0.2381320928285825, 0.22565900431023933, 0.1895868973198938, 0.18879720360218838, 0.18264092518734307, 0.15306884070741433, 0.19240670959727718, 0.19870258597465482, 0.15718773798697733, 0.15746098371291067, 0.14063597524793126, 0.13533142471598555, 0.13465000178611863, 0.16852534865377153, 0.13479207398729207, 0.11998056702503153, 0.12652170437751514, 0.1314194848541847, 0.1068851044963235, 0.10811103968444641, 0.13935735310389033, 0.11262571445435511, 0.09994827654374512, 0.09156880270822702, 0.12170841077027221, 0.11986629047051284, 0.12042203829077608, 0.10257396470124522, 0.07141154148305237, 0.11286345072888482, 0.14545853183142474, 0.08261463096709563, 0.07816871711160547, 0.0834815292300649, 0.08061120286518395, 0.07870132581194748, 0.1100104708078458, 0.09237889285474958, 0.09098280840773605, 0.0775859790803553, 0.11242035616805647, 0.08350875193663551, 0.07306732858002385, 0.10495222422125806, 0.10121314234917625, 0.09041668099852507, 0.085021389281652, 0.08709571150535855, 0.08119573050985286, 0.05720834045503724, 0.06752291287102116, 0.07401366609014232, 0.09078182027614128, 0.06360876416197629, 0.04408281449970701, 0.04912982641352288, 0.09239701398996975, 0.08397759706717353, 0.03846376826959649, 0.05900241308116014, 0.0511683612821664, 0.06045130762034617, 0.09908614304464973, 0.06853826708419579, 0.06010749900452524, 0.0750001804639163, 0.10037270990330205, 0.08117188401919835, 0.05964600242207134, 0.06097916190592559, 0.06448622915978296, 0.049291680894329615, 0.06723989536866208, 0.06261745889440076, 0.0828949253097588, 0.06829598370735772, 0.07648963783003805, 0.050370491731598126, 0.04628097680067349, 0.05635536908192869, 0.07244983570611244, 0.03961103102834645, 0.04535775429545275, 0.06595275171501659, 0.06299134393450097, 0.0404003969792762, 0.0501003786742999, 0.08006950906923796, 0.06023521859767723, 0.06697451766250852, 0.028666988472729863, 0.05850124550856885, 0.07587163815681296, 0.04663811410420758, 0.08466476121967642, 0.07108294285135548, 0.04754935567612289, 0.04140392171914331, 0.05381673431490354, 0.04729886747521981, 0.03891590693035378, 0.049779767958332374, 0.05005639105934027]\n",
      "[1.8798491602594203, 1.8879662372849204, 1.8866435939615422, 1.710822273384441, 1.794157469814474, 1.8281896331093528, 1.7015701694922014, 1.9204062115062366, 1.7281528440388767, 1.9042668640613556, 1.750350003892725, 2.0468101501464844, 1.8679933900182897, 1.871904801238667, 1.9695290354165165, 1.8692320016297428, 1.9964542416009037, 2.0064142779870466, 2.014848356897181, 2.101751360026273, 2.273027856241573, 2.0610892826860603, 2.2239972949028015, 2.2918768660588698, 2.136060793291439, 2.185836984352632, 2.25144502249631, 2.263073284517635, 2.3427226055752146, 2.548588153990832, 2.344073311849074, 2.6048515899614855, 2.4827307760715485, 2.5614365718581458, 2.291786703196439, 2.488292637196454, 2.7692495503208856, 2.521276568824595, 2.5499190959063442, 2.5560632808641954, 2.588095329024575, 2.838707988912409, 2.600795794617046, 2.884335707534443, 2.600517443635247, 2.7178437899459493, 2.9621128141880035, 2.932340982285413, 2.548693830316717, 2.631456044587222, 2.986494557424025, 2.6665902733802795, 2.9200825582851064, 2.821283047849482, 2.6478641114451666, 2.7109800468791616, 2.8821339241482993, 2.7162570005113427, 3.0881751017137007, 2.735878413373774, 3.1072994470596313, 2.9527191438458185, 3.0017079412937164, 3.2237656604159963, 3.0099908736619083, 3.4242454875599253, 3.094783390110189, 3.062528184869073, 3.2398743548176507, 2.968336186625741, 3.1587945737622003, 3.2433025484735314, 3.218614635142413, 3.4046757139942865, 3.237212760881944, 3.2428165620023552, 3.021511275659908, 3.1484800306233494, 3.3216919844800774, 3.2022319463166324, 3.184491596438668, 3.3050864149223673, 3.0715756795623084, 3.7181684239344164, 3.2697226892818105, 3.189034489068118, 3.5838129466230217, 3.282617674632506, 3.5069586146961558, 3.2830505316907708, 3.3833330761302602, 3.559149671684612, 3.4774005087939175, 3.6409821293570777, 3.3053645572879096, 3.1910788254304365, 4.114267631010576, 3.3127417726950212, 3.2631784812970595, 3.313422804529017, 3.293671580878171, 3.4643251408230173, 3.3222834400155326, 3.4791784313592045, 3.4695660200985996, 3.667523671280254, 3.4244197715412485, 3.535086276856336, 3.6762977242469788, 3.326822979883714, 3.5333000042221765, 3.5777104551141914, 3.538788849657232, 3.5542741905559194, 3.4110266024416145, 3.5744017741896887, 3.7527989582581953, 3.361420116641305, 3.878032784570347, 3.514143545519222]\n",
      "[0.3726042, 0.5936346, 0.66731143, 0.73184454, 0.77474946, 0.803763, 0.8340074, 0.8447336, 0.86882365, 0.87726396, 0.8951996, 0.8999472, 0.90258485, 0.903464, 0.92667484, 0.9374011, 0.93195003, 0.92685074, 0.92983997, 0.94285214, 0.9444347, 0.9419729, 0.9537542, 0.93810445, 0.93406016, 0.9526991, 0.94883066, 0.9555126, 0.95815015, 0.9556884, 0.9432038, 0.9555126, 0.96113944, 0.9609636, 0.9600844, 0.9658871, 0.9650079, 0.95393, 0.9636012, 0.96782136, 0.96957976, 0.96237034, 0.96113944, 0.9597327, 0.97010726, 0.976965, 0.9600844, 0.95234746, 0.9729207, 0.97590995, 0.9746791, 0.9734482, 0.9722173, 0.9655354, 0.97010726, 0.97133815, 0.9727449, 0.96465623, 0.9727449, 0.9767892, 0.9658871, 0.96606296, 0.97133815, 0.9716898, 0.9679972, 0.97538245, 0.98118514, 0.97837174, 0.97714084, 0.9692281, 0.9796026, 0.9864603, 0.985757, 0.96957976, 0.97186565, 0.98839456, 0.98065764, 0.9845261, 0.98065764, 0.9694039, 0.9757341, 0.9810093, 0.97590995, 0.9762617, 0.9746791, 0.9799543, 0.9796026, 0.97889924, 0.9836469, 0.97942674, 0.9781959, 0.9745033, 0.9790751, 0.9757341, 0.98417443, 0.98487777, 0.981361, 0.9780201, 0.98786706, 0.9854053, 0.97889924, 0.9796026, 0.98733956, 0.9834711, 0.97538245, 0.98118514, 0.9781959, 0.9917355, 0.98294353, 0.9757341, 0.9836469, 0.97362405, 0.9762617, 0.9834711, 0.98610866, 0.98505366, 0.985757, 0.98663616, 0.98470193, 0.98329526]\n",
      "[0.47150996, 0.51210827, 0.52136755, 0.5505698, 0.54131055, 0.5292023, 0.5562678, 0.52279204, 0.5811966, 0.5519943, 0.5868946, 0.5391738, 0.58475786, 0.5733618, 0.5562678, 0.57122505, 0.5591168, 0.5733618, 0.5662393, 0.5555556, 0.52207977, 0.5747863, 0.5491453, 0.5519943, 0.5655271, 0.5719373, 0.5740741, 0.57834756, 0.55840456, 0.5534188, 0.5762108, 0.5448718, 0.5648148, 0.54273504, 0.57051283, 0.5811966, 0.54985756, 0.5591168, 0.5747863, 0.5754986, 0.58048433, 0.5391738, 0.56980056, 0.53205127, 0.5726496, 0.5633903, 0.54273504, 0.5591168, 0.57905984, 0.57763535, 0.56125355, 0.5740741, 0.56837606, 0.5740741, 0.57977206, 0.5769231, 0.5719373, 0.5740741, 0.55982906, 0.5840456, 0.55982906, 0.5548433, 0.5719373, 0.5534188, 0.5641026, 0.5505698, 0.5719373, 0.5669516, 0.5591168, 0.57051283, 0.57763535, 0.56054133, 0.56125355, 0.5641026, 0.5648148, 0.57051283, 0.5655271, 0.5676638, 0.5576923, 0.55840456, 0.5769231, 0.54985756, 0.5769231, 0.5306268, 0.5676638, 0.58048433, 0.5562678, 0.5726496, 0.5491453, 0.5662393, 0.5633903, 0.5448718, 0.5633903, 0.55270654, 0.5747863, 0.58048433, 0.508547, 0.57122505, 0.5826211, 0.57763535, 0.56837606, 0.5633903, 0.5826211, 0.57122505, 0.57905984, 0.5569801, 0.5655271, 0.57763535, 0.5505698, 0.5769231, 0.56980056, 0.5676638, 0.57122505, 0.5548433, 0.5641026, 0.5733618, 0.55128205, 0.58618236, 0.5548433, 0.57051283]\n"
     ]
    }
   ],
   "source": [
    "print(loss)\n",
    "print(val_loss)\n",
    "print(acc)\n",
    "print(val_acc)"
   ]
  },
  {
   "cell_type": "markdown",
   "metadata": {},
   "source": [
    "## Summary"
   ]
  },
  {
   "cell_type": "markdown",
   "metadata": {},
   "source": [
    "Based on above accuracy and loss curves, we can clearly see that there exists severe overfitting. Obviously, we need to find out how we add layers can reduce overfitting as much as possible and maintain the accuracy at the same time. \n",
    "\n",
    "So we decide to use 3 classes which contains most paintings and 20 epochs as the starting point. To address overfiting, adding noises, regularization may help.  "
   ]
  },
  {
   "cell_type": "code",
   "execution_count": null,
   "metadata": {},
   "outputs": [],
   "source": []
  }
 ],
 "metadata": {
  "kernelspec": {
   "display_name": "Python 3",
   "language": "python",
   "name": "python3"
  },
  "language_info": {
   "codemirror_mode": {
    "name": "ipython",
    "version": 3
   },
   "file_extension": ".py",
   "mimetype": "text/x-python",
   "name": "python",
   "nbconvert_exporter": "python",
   "pygments_lexer": "ipython3",
   "version": "3.6.5"
  }
 },
 "nbformat": 4,
 "nbformat_minor": 2
}
