{
 "cells": [
  {
   "cell_type": "markdown",
   "metadata": {},
   "source": [
    "# Run VGG16 on 3 classes test3\n",
    "\n",
    "For this part, we still loads 3 classes with most paintings in VGG16 while adds two more layers than test2. Still, run 20 epochs.\n",
    "\n",
    "Before adding layers, we let the `base_model.output` load into variable `x`. Then, we just operate on the `x`. The operations are as following:\n",
    "* A `Flatten()(x)` layer which reshapes the outputs to a single channel.\n",
    "* A `GaussianNoise(0.1)(x)` layer.\n",
    "* A `Dropout(0.5)(x)` layer.\n",
    "* A fully-connected layer with 2304 output units and `relu` activation.\n",
    "* A `GaussianNoise(0.1)(x)` layer.\n",
    "* A `Dropout(0.5)(x)` layer.\n",
    "* A fully-connected layer with 288 output units and `relu` activation.\n",
    "* A `BatchNormalization()(x)` layer.\n",
    "* A `Dropout(0.5)(x)` layer.\n",
    "* (new) A fully-connected layer with 288 output units and `relu` activation.\n",
    "* (new) A `Dropout(0.5)(x)` layer.\n",
    "* A final fully-connected layer.  Since this is a multiple classification, there should be three output and `softmax` activation. To mitigate overfitting, we add several arguments: `kernel_initializer='random_uniform'`, `bias_initializer='random_uniform'`, and `bias_regularizer=regularizers.l2(0.01)`.\n",
    "\n",
    "However, at the end of test3, we end up to an obvious underfitting."
   ]
  },
  {
   "cell_type": "code",
   "execution_count": 1,
   "metadata": {},
   "outputs": [],
   "source": [
    "import numpy as np\n",
    "import os\n",
    "from tensorflow.keras import applications\n",
    "from tensorflow.keras.preprocessing.image import ImageDataGenerator\n",
    "from tensorflow.keras import optimizers, regularizers\n",
    "from tensorflow.keras.models import Sequential\n",
    "from tensorflow.keras.models import Model\n",
    "from tensorflow.keras.layers import Dropout, Flatten, Dense, GaussianNoise, BatchNormalization\n",
    "import matplotlib\n",
    "import matplotlib.pyplot as plt\n",
    "%matplotlib inline"
   ]
  },
  {
   "cell_type": "code",
   "execution_count": 2,
   "metadata": {},
   "outputs": [
    {
     "name": "stdout",
     "output_type": "stream",
     "text": [
      "[name: \"/device:CPU:0\"\n",
      "device_type: \"CPU\"\n",
      "memory_limit: 268435456\n",
      "locality {\n",
      "}\n",
      "incarnation: 2638700649349130033\n",
      ", name: \"/device:GPU:0\"\n",
      "device_type: \"GPU\"\n",
      "memory_limit: 2264907776\n",
      "locality {\n",
      "  bus_id: 1\n",
      "  links {\n",
      "  }\n",
      "}\n",
      "incarnation: 14776539995965970595\n",
      "physical_device_desc: \"device: 0, name: GeForce GTX 970M, pci bus id: 0000:01:00.0, compute capability: 5.2\"\n",
      "]\n"
     ]
    }
   ],
   "source": [
    "from tensorflow.python.client import device_lib\n",
    "print(device_lib.list_local_devices())"
   ]
  },
  {
   "cell_type": "code",
   "execution_count": 3,
   "metadata": {},
   "outputs": [],
   "source": [
    "import tensorflow.keras.backend as K\n",
    "K.clear_session()"
   ]
  },
  {
   "cell_type": "code",
   "execution_count": 4,
   "metadata": {},
   "outputs": [
    {
     "name": "stdout",
     "output_type": "stream",
     "text": [
      "WARNING:tensorflow:From D:\\Anaconda\\envs\\tensorflow\\lib\\site-packages\\tensorflow\\python\\ops\\resource_variable_ops.py:435: colocate_with (from tensorflow.python.framework.ops) is deprecated and will be removed in a future version.\n",
      "Instructions for updating:\n",
      "Colocations handled automatically by placer.\n",
      "WARNING:tensorflow:From D:\\Anaconda\\envs\\tensorflow\\lib\\site-packages\\tensorflow\\python\\keras\\layers\\core.py:143: calling dropout (from tensorflow.python.ops.nn_ops) with keep_prob is deprecated and will be removed in a future version.\n",
      "Instructions for updating:\n",
      "Please use `rate` instead of `keep_prob`. Rate should be set to `rate = 1 - keep_prob`.\n"
     ]
    }
   ],
   "source": [
    "nrow = 200\n",
    "ncol = 200\n",
    "nclass = 3\n",
    "base_model = applications.VGG16(weights='imagenet', input_shape=(nrow,ncol,3), include_top=False)\n",
    "for layer in base_model.layers:\n",
    "    layer.trainable = False\n",
    "\n",
    "x = base_model.output\n",
    "x = Flatten()(x)\n",
    "x = GaussianNoise(0.1)(x)\n",
    "x = Dropout(0.5)(x)\n",
    "x = Dense(2304, activation = 'relu')(x) # 18432/4\n",
    "x = GaussianNoise(0.1)(x) # add noise to mitigate overfitting (regularization layer)\n",
    "x = Dropout(0.5)(x)\n",
    "x = Dense(288, activation='relu')(x)\n",
    "x = BatchNormalization()(x)\n",
    "x = Dropout(0.5)(x)\n",
    "x = Dense(288, activation='relu')(x)\n",
    "x = Dropout(0.5)(x)\n",
    "pred = Dense(nclass, activation='softmax', \n",
    "             kernel_initializer='random_uniform', \n",
    "             bias_initializer='random_uniform', \n",
    "             bias_regularizer=regularizers.l2(0.01), \n",
    "             name='predictions')(x) \n",
    "model = Model(inputs=base_model.input, outputs=pred)\n",
    "    "
   ]
  },
  {
   "cell_type": "code",
   "execution_count": 5,
   "metadata": {},
   "outputs": [
    {
     "name": "stdout",
     "output_type": "stream",
     "text": [
      "_________________________________________________________________\n",
      "Layer (type)                 Output Shape              Param #   \n",
      "=================================================================\n",
      "input_1 (InputLayer)         (None, 200, 200, 3)       0         \n",
      "_________________________________________________________________\n",
      "block1_conv1 (Conv2D)        (None, 200, 200, 64)      1792      \n",
      "_________________________________________________________________\n",
      "block1_conv2 (Conv2D)        (None, 200, 200, 64)      36928     \n",
      "_________________________________________________________________\n",
      "block1_pool (MaxPooling2D)   (None, 100, 100, 64)      0         \n",
      "_________________________________________________________________\n",
      "block2_conv1 (Conv2D)        (None, 100, 100, 128)     73856     \n",
      "_________________________________________________________________\n",
      "block2_conv2 (Conv2D)        (None, 100, 100, 128)     147584    \n",
      "_________________________________________________________________\n",
      "block2_pool (MaxPooling2D)   (None, 50, 50, 128)       0         \n",
      "_________________________________________________________________\n",
      "block3_conv1 (Conv2D)        (None, 50, 50, 256)       295168    \n",
      "_________________________________________________________________\n",
      "block3_conv2 (Conv2D)        (None, 50, 50, 256)       590080    \n",
      "_________________________________________________________________\n",
      "block3_conv3 (Conv2D)        (None, 50, 50, 256)       590080    \n",
      "_________________________________________________________________\n",
      "block3_pool (MaxPooling2D)   (None, 25, 25, 256)       0         \n",
      "_________________________________________________________________\n",
      "block4_conv1 (Conv2D)        (None, 25, 25, 512)       1180160   \n",
      "_________________________________________________________________\n",
      "block4_conv2 (Conv2D)        (None, 25, 25, 512)       2359808   \n",
      "_________________________________________________________________\n",
      "block4_conv3 (Conv2D)        (None, 25, 25, 512)       2359808   \n",
      "_________________________________________________________________\n",
      "block4_pool (MaxPooling2D)   (None, 12, 12, 512)       0         \n",
      "_________________________________________________________________\n",
      "block5_conv1 (Conv2D)        (None, 12, 12, 512)       2359808   \n",
      "_________________________________________________________________\n",
      "block5_conv2 (Conv2D)        (None, 12, 12, 512)       2359808   \n",
      "_________________________________________________________________\n",
      "block5_conv3 (Conv2D)        (None, 12, 12, 512)       2359808   \n",
      "_________________________________________________________________\n",
      "block5_pool (MaxPooling2D)   (None, 6, 6, 512)         0         \n",
      "_________________________________________________________________\n",
      "flatten (Flatten)            (None, 18432)             0         \n",
      "_________________________________________________________________\n",
      "gaussian_noise (GaussianNois (None, 18432)             0         \n",
      "_________________________________________________________________\n",
      "dropout (Dropout)            (None, 18432)             0         \n",
      "_________________________________________________________________\n",
      "dense (Dense)                (None, 2304)              42469632  \n",
      "_________________________________________________________________\n",
      "gaussian_noise_1 (GaussianNo (None, 2304)              0         \n",
      "_________________________________________________________________\n",
      "dropout_1 (Dropout)          (None, 2304)              0         \n",
      "_________________________________________________________________\n",
      "dense_1 (Dense)              (None, 288)               663840    \n",
      "_________________________________________________________________\n",
      "batch_normalization_v1 (Batc (None, 288)               1152      \n",
      "_________________________________________________________________\n",
      "dropout_2 (Dropout)          (None, 288)               0         \n",
      "_________________________________________________________________\n",
      "dense_2 (Dense)              (None, 288)               83232     \n",
      "_________________________________________________________________\n",
      "dropout_3 (Dropout)          (None, 288)               0         \n",
      "_________________________________________________________________\n",
      "predictions (Dense)          (None, 3)                 867       \n",
      "=================================================================\n",
      "Total params: 57,933,411\n",
      "Trainable params: 43,218,147\n",
      "Non-trainable params: 14,715,264\n",
      "_________________________________________________________________\n"
     ]
    }
   ],
   "source": [
    "model.summary()"
   ]
  },
  {
   "cell_type": "code",
   "execution_count": 6,
   "metadata": {},
   "outputs": [
    {
     "name": "stdout",
     "output_type": "stream",
     "text": [
      "Found 1616 images belonging to 3 classes.\n"
     ]
    }
   ],
   "source": [
    "train_data_dir = './images_train'\n",
    "batch_size = 5\n",
    "train_datagen = ImageDataGenerator(rescale=1./255,\n",
    "                                   shear_range=0.2,\n",
    "                                   zoom_range=0.2,\n",
    "                                   horizontal_flip=True)\n",
    "train_generator = train_datagen.flow_from_directory(\n",
    "                        train_data_dir,\n",
    "                        target_size=(nrow,ncol),\n",
    "                        batch_size=batch_size,\n",
    "                        class_mode='categorical')"
   ]
  },
  {
   "cell_type": "code",
   "execution_count": 7,
   "metadata": {},
   "outputs": [
    {
     "name": "stdout",
     "output_type": "stream",
     "text": [
      "Found 402 images belonging to 3 classes.\n"
     ]
    }
   ],
   "source": [
    "test_data_dir = './images_test'\n",
    "batch_size = 5\n",
    "test_datagen = ImageDataGenerator(rescale=1./255,\n",
    "                                   shear_range=0.2,\n",
    "                                   zoom_range=0.2,\n",
    "                                   horizontal_flip=True)\n",
    "test_generator = train_datagen.flow_from_directory(\n",
    "                        test_data_dir,\n",
    "                        target_size=(nrow,ncol),\n",
    "                        batch_size=batch_size,\n",
    "                        class_mode='categorical')"
   ]
  },
  {
   "cell_type": "code",
   "execution_count": 8,
   "metadata": {},
   "outputs": [],
   "source": [
    "model.compile(loss='categorical_crossentropy', optimizer='adam', metrics=['accuracy'])\n",
    "steps_per_epoch = train_generator.n // batch_size\n",
    "validation_steps = test_generator.n // batch_size"
   ]
  },
  {
   "cell_type": "code",
   "execution_count": 9,
   "metadata": {},
   "outputs": [
    {
     "name": "stdout",
     "output_type": "stream",
     "text": [
      "WARNING:tensorflow:From D:\\Anaconda\\envs\\tensorflow\\lib\\site-packages\\tensorflow\\python\\ops\\math_ops.py:3066: to_int32 (from tensorflow.python.ops.math_ops) is deprecated and will be removed in a future version.\n",
      "Instructions for updating:\n",
      "Use tf.cast instead.\n",
      "Epoch 1/20\n",
      "81/81 [==============================] - 11s 137ms/step - loss: 0.8665 - acc: 0.5746\n",
      "324/324 [==============================] - 58s 178ms/step - loss: 1.0749 - acc: 0.4493 - val_loss: 0.8665 - val_acc: 0.5746\n",
      "Epoch 2/20\n",
      "81/81 [==============================] - 10s 126ms/step - loss: 0.6374 - acc: 0.7239\n",
      "324/324 [==============================] - 56s 172ms/step - loss: 0.9348 - acc: 0.5644 - val_loss: 0.6374 - val_acc: 0.7239\n",
      "Epoch 3/20\n",
      "81/81 [==============================] - 10s 126ms/step - loss: 0.6223 - acc: 0.7438\n",
      "324/324 [==============================] - 55s 169ms/step - loss: 0.8278 - acc: 0.6361 - val_loss: 0.6223 - val_acc: 0.7438\n",
      "Epoch 4/20\n",
      "81/81 [==============================] - 11s 136ms/step - loss: 0.6065 - acc: 0.7587\n",
      "324/324 [==============================] - 56s 173ms/step - loss: 0.8256 - acc: 0.6442 - val_loss: 0.6065 - val_acc: 0.7587\n",
      "Epoch 5/20\n",
      "81/81 [==============================] - 9s 116ms/step - loss: 0.5289 - acc: 0.7786\n",
      "324/324 [==============================] - 55s 170ms/step - loss: 0.7670 - acc: 0.6751 - val_loss: 0.5289 - val_acc: 0.7786\n",
      "Epoch 6/20\n",
      "81/81 [==============================] - 11s 135ms/step - loss: 0.5223 - acc: 0.7861\n",
      "324/324 [==============================] - 56s 173ms/step - loss: 0.7464 - acc: 0.6881 - val_loss: 0.5223 - val_acc: 0.7861\n",
      "Epoch 7/20\n",
      "81/81 [==============================] - 11s 138ms/step - loss: 0.5701 - acc: 0.7612\n",
      "324/324 [==============================] - 56s 172ms/step - loss: 0.7299 - acc: 0.6955 - val_loss: 0.5701 - val_acc: 0.7612\n",
      "Epoch 8/20\n",
      "81/81 [==============================] - 10s 120ms/step - loss: 0.5727 - acc: 0.7612\n",
      "324/324 [==============================] - 54s 166ms/step - loss: 0.7158 - acc: 0.7092 - val_loss: 0.5727 - val_acc: 0.7612\n",
      "Epoch 9/20\n",
      "81/81 [==============================] - 11s 132ms/step - loss: 0.5174 - acc: 0.8035\n",
      "324/324 [==============================] - 56s 173ms/step - loss: 0.6799 - acc: 0.7246 - val_loss: 0.5174 - val_acc: 0.8035\n",
      "Epoch 10/20\n",
      "81/81 [==============================] - 10s 119ms/step - loss: 0.4813 - acc: 0.8035\n",
      "324/324 [==============================] - 54s 165ms/step - loss: 0.6832 - acc: 0.7110 - val_loss: 0.4813 - val_acc: 0.8035\n",
      "Epoch 11/20\n",
      "81/81 [==============================] - 11s 134ms/step - loss: 0.5021 - acc: 0.7861\n",
      "324/324 [==============================] - 57s 176ms/step - loss: 0.6640 - acc: 0.7333 - val_loss: 0.5021 - val_acc: 0.7861\n",
      "Epoch 12/20\n",
      "81/81 [==============================] - 10s 121ms/step - loss: 0.5168 - acc: 0.7910\n",
      "324/324 [==============================] - 54s 165ms/step - loss: 0.6337 - acc: 0.7556 - val_loss: 0.5168 - val_acc: 0.7910\n",
      "Epoch 13/20\n",
      "81/81 [==============================] - 10s 129ms/step - loss: 0.5120 - acc: 0.7935\n",
      "324/324 [==============================] - 56s 173ms/step - loss: 0.6604 - acc: 0.7364 - val_loss: 0.5120 - val_acc: 0.7935\n",
      "Epoch 14/20\n",
      "81/81 [==============================] - 10s 119ms/step - loss: 0.5025 - acc: 0.8060\n",
      "324/324 [==============================] - 54s 168ms/step - loss: 0.6215 - acc: 0.7667 - val_loss: 0.5025 - val_acc: 0.8060\n",
      "Epoch 15/20\n",
      "81/81 [==============================] - 10s 123ms/step - loss: 0.4450 - acc: 0.8159\n",
      "324/324 [==============================] - 55s 171ms/step - loss: 0.5811 - acc: 0.7778 - val_loss: 0.4450 - val_acc: 0.8159\n",
      "Epoch 16/20\n",
      "81/81 [==============================] - 11s 135ms/step - loss: 0.4971 - acc: 0.8184\n",
      "324/324 [==============================] - 55s 169ms/step - loss: 0.6520 - acc: 0.7593 - val_loss: 0.4971 - val_acc: 0.8184\n",
      "Epoch 17/20\n",
      "81/81 [==============================] - 10s 129ms/step - loss: 0.5052 - acc: 0.8060\n",
      "324/324 [==============================] - 55s 171ms/step - loss: 0.6010 - acc: 0.7580 - val_loss: 0.5052 - val_acc: 0.8060\n",
      "Epoch 18/20\n",
      "81/81 [==============================] - 10s 124ms/step - loss: 0.5317 - acc: 0.7985\n",
      "324/324 [==============================] - 54s 167ms/step - loss: 0.6009 - acc: 0.7649 - val_loss: 0.5317 - val_acc: 0.7985\n",
      "Epoch 19/20\n",
      "81/81 [==============================] - 10s 124ms/step - loss: 0.5673 - acc: 0.7711\n",
      "324/324 [==============================] - 55s 170ms/step - loss: 0.6075 - acc: 0.7636 - val_loss: 0.5673 - val_acc: 0.7711\n",
      "Epoch 20/20\n",
      "81/81 [==============================] - 11s 136ms/step - loss: 0.4825 - acc: 0.8159\n",
      "324/324 [==============================] - 55s 171ms/step - loss: 0.6141 - acc: 0.7587 - val_loss: 0.4825 - val_acc: 0.8159\n"
     ]
    }
   ],
   "source": [
    "nepochs = 20  # Number of epochs\n",
    "\n",
    "# Call the fit_generator function\n",
    "hist = model.fit_generator(\n",
    "    train_generator,\n",
    "    epochs=nepochs,\n",
    "    steps_per_epoch=steps_per_epoch,\n",
    "    validation_data=test_generator,\n",
    "    validation_steps=validation_steps)"
   ]
  },
  {
   "cell_type": "code",
   "execution_count": 10,
   "metadata": {},
   "outputs": [
    {
     "data": {
      "text/plain": [
       "<matplotlib.legend.Legend at 0x1d2c6043630>"
      ]
     },
     "execution_count": 10,
     "metadata": {},
     "output_type": "execute_result"
    },
    {
     "data": {
      "image/png": "[encoded data removed]",
      "text/plain": [
       "<Figure size 432x288 with 1 Axes>"
      ]
     },
     "metadata": {
      "needs_background": "light"
     },
     "output_type": "display_data"
    }
   ],
   "source": [
    "hist_his = hist.history\n",
    "acc = hist_his['acc']\n",
    "val_acc = hist_his['val_acc']\n",
    "plt.plot(acc)\n",
    "plt.plot(val_acc)\n",
    "plt.grid()\n",
    "plt.xlabel('Epoch')\n",
    "plt.ylabel('Accuracy')\n",
    "plt.legend(['acc','val_acc'], loc = 4)"
   ]
  },
  {
   "cell_type": "code",
   "execution_count": 11,
   "metadata": {},
   "outputs": [
    {
     "data": {
      "text/plain": [
       "<matplotlib.legend.Legend at 0x1d2dfacfef0>"
      ]
     },
     "execution_count": 11,
     "metadata": {},
     "output_type": "execute_result"
    },
    {
     "data": {
      "image/png": "[encoded data removed]",
      "text/plain": [
       "<Figure size 432x288 with 1 Axes>"
      ]
     },
     "metadata": {
      "needs_background": "light"
     },
     "output_type": "display_data"
    }
   ],
   "source": [
    "loss = hist_his['loss']\n",
    "val_loss = hist_his['val_loss']\n",
    "plt.plot(loss)\n",
    "plt.plot(val_loss)\n",
    "plt.grid()\n",
    "plt.xlabel('Epoch')\n",
    "plt.ylabel('Loss')\n",
    "plt.legend(['loss','val_loss'], loc = 1)"
   ]
  },
  {
   "cell_type": "code",
   "execution_count": 12,
   "metadata": {},
   "outputs": [
    {
     "name": "stdout",
     "output_type": "stream",
     "text": [
      "[1.0747226900651607, 0.9344037247286869, 0.8271783235953143, 0.82502949660146, 0.7661922124795394, 0.7455206539131479, 0.7290131777091561, 0.7144207797557263, 0.6789925487131102, 0.6822495735204308, 0.6631154680191217, 0.6327936213860048, 0.6593814821070115, 0.6206221104424336, 0.5797280672635643, 0.651208940951043, 0.5995261630119461, 0.5987160129813791, 0.6066443066546084, 0.6123226203789731]\n",
      "[0.8664734724127217, 0.6373515651549821, 0.6223491394409427, 0.6064664299289385, 0.5288627569874128, 0.5222727093431685, 0.5701493821854209, 0.5727167229777501, 0.5173582800744493, 0.48125729663872424, 0.5021230313513014, 0.5168457585789356, 0.5119663116142705, 0.5025214562422515, 0.4449932803112416, 0.49711152147731663, 0.5052004380174625, 0.5317020053503874, 0.5672682631059469, 0.48254425101626064]\n",
      "[0.44925743, 0.56435645, 0.6361386, 0.64418316, 0.67512375, 0.6881188, 0.69554454, 0.7091584, 0.7246287, 0.71101487, 0.7332921, 0.7555693, 0.7363861, 0.7667079, 0.7778465, 0.7592822, 0.75804454, 0.7648515, 0.7636139, 0.75866336]\n",
      "[0.57462686, 0.7238806, 0.7437811, 0.75870645, 0.77860695, 0.78606963, 0.76119405, 0.76119405, 0.8034826, 0.8034826, 0.78606963, 0.7910448, 0.7935323, 0.80597013, 0.8159204, 0.81840795, 0.80597013, 0.79850745, 0.7711443, 0.8159204]\n"
     ]
    }
   ],
   "source": [
    "print(loss)\n",
    "print(val_loss)\n",
    "print(acc)\n",
    "print(val_acc)"
   ]
  },
  {
   "cell_type": "code",
   "execution_count": null,
   "metadata": {},
   "outputs": [],
   "source": []
  }
 ],
 "metadata": {
  "kernelspec": {
   "display_name": "Python 3",
   "language": "python",
   "name": "python3"
  },
  "language_info": {
   "codemirror_mode": {
    "name": "ipython",
    "version": 3
   },
   "file_extension": ".py",
   "mimetype": "text/x-python",
   "name": "python",
   "nbconvert_exporter": "python",
   "pygments_lexer": "ipython3",
   "version": "3.6.5"
  }
 },
 "nbformat": 4,
 "nbformat_minor": 2
}
